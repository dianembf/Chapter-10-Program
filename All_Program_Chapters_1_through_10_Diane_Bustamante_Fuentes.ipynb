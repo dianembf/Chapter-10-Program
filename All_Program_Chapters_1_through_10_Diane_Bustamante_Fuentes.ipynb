{
  "nbformat": 4,
  "nbformat_minor": 0,
  "metadata": {
    "colab": {
      "provenance": [],
      "authorship_tag": "ABX9TyM3G7dx3cKjuei5JMkEDo7i",
      "include_colab_link": true
    },
    "kernelspec": {
      "name": "python3",
      "display_name": "Python 3"
    },
    "language_info": {
      "name": "python"
    }
  },
  "cells": [
    {
      "cell_type": "markdown",
      "metadata": {
        "id": "view-in-github",
        "colab_type": "text"
      },
      "source": [
        "<a href=\"https://colab.research.google.com/github/dianembf/Chapter-10-Program/blob/main/All_Program_Chapters_1_through_10_Diane_Bustamante_Fuentes.ipynb\" target=\"_parent\"><img src=\"https://colab.research.google.com/assets/colab-badge.svg\" alt=\"Open In Colab\"/></a>"
      ]
    },
    {
      "cell_type": "code",
      "execution_count": 2,
      "metadata": {
        "colab": {
          "base_uri": "https://localhost:8080/"
        },
        "id": "hPMgYN8ZEaxX",
        "outputId": "cc65c558-85a1-4c29-eb55-101634494396"
      },
      "outputs": [
        {
          "output_type": "stream",
          "name": "stdout",
          "text": [
            "Creating a AguaFrescasmall Horchata aguafresca. \n",
            "Creating a AguaFrescalarge Jaimaica aguafresca. \n",
            "Creating a AguaFrescamedium Strawberry aguafresca. \n"
          ]
        }
      ],
      "source": [
        "class AguaFresca:\n",
        "  def __init__(self, flavor, size):\n",
        "    self.flavor = flavor\n",
        "    self.size = size\n",
        "\n",
        "  def __str__(self):\n",
        "    return \"Creating a AguaFresca\" + self.size + \" \" + self.flavor + \" aguafresca. \"\n",
        "\n",
        "AguaFresca1 = AguaFresca(\"Horchata\", \"small\")\n",
        "AguaFresca2 = AguaFresca(\"Jaimaica\", \"large\")\n",
        "AguaFresca3 = AguaFresca(\"Strawberry\", \"medium\")\n",
        "\n",
        "print(AguaFresca1)\n",
        "print(AguaFresca2)\n",
        "print(AguaFresca3)"
      ]
    },
    {
      "cell_type": "code",
      "source": [
        "class Aguafresca:\n",
        "  def __init__(self, flavor, size):\n",
        "    self.flavor = flavor\n",
        "    self.size = size\n",
        "  def read(self):\n",
        "    return self.flavor, self.size\n",
        "  def set(self, flavor=None, size=None):\n",
        "    if flavor is None or size is None:\n",
        "      print(\"Error: You must specify both the flavor and size of the aguafresca\")\n",
        "    else:\n",
        "      self.flavor = flavor\n",
        "      self.size = size\n",
        "      print(\"The flavor and size of the aguafresca have been updated.\")\n"
      ],
      "metadata": {
        "id": "Tv97swqsFX-U"
      },
      "execution_count": 9,
      "outputs": []
    },
    {
      "cell_type": "code",
      "source": [
        "cone1 = Aguafresca(\"Horchata\", \"large\")\n",
        "cone2 = Aguafresca(\"Jaimaica\", \"small\")\n",
        "cone3 = Aguafresca(\"Jaimaica\", \"large\")\n",
        "cone4 = Aguafresca(\"Strawberry\", \"medium\")\n",
        "cone5 = Aguafresca(\"Strawberry\", \"Large\")\n",
        "\n",
        "print(cone1.read())\n",
        "print(cone2.read())\n",
        "print(cone3.read())\n",
        "print(cone4.read())\n",
        "print(cone5.read())\n",
        "\n",
        "cone1.set(\"Lemon\", \"large\")\n",
        "cone2.set(\"Watermelon\", \"small\")\n",
        "cone4.set(\"Mamey\", \"medium\")\n",
        "\n",
        "print(cone1.read())\n",
        "print(cone2.read())\n",
        "print(cone4.read())\n",
        "\n",
        "cone3.set(\"coconut\")\n",
        "cone5.set(size=\"huge\")"
      ],
      "metadata": {
        "colab": {
          "base_uri": "https://localhost:8080/"
        },
        "id": "NDEiij7wFdwF",
        "outputId": "a5bd63ac-f893-4f91-9a00-5128e0c93ed4"
      },
      "execution_count": 5,
      "outputs": [
        {
          "output_type": "stream",
          "name": "stdout",
          "text": [
            "('Horchata', 'large')\n",
            "('Jaimaica', 'small')\n",
            "('Jaimaica', 'large')\n",
            "('Strawberry', 'medium')\n",
            "('Strawberry', 'Large')\n",
            "The flavor and size of the aguafresca have been updated.\n",
            "The flavor and size of the aguafresca have been updated.\n",
            "The flavor and size of the aguafresca have been updated.\n",
            "('Lemon', 'large')\n",
            "('Watermelon', 'small')\n",
            "('Mamey', 'medium')\n",
            "Error: You must specify both the flavor and size of the aguafresca\n",
            "Error: You must specify both the flavor and size of the aguafresca\n"
          ]
        }
      ]
    },
    {
      "cell_type": "code",
      "source": [
        "for i in range (20):\n",
        "  print(i)\n",
        "\n",
        "0\n",
        "1\n",
        "2\n",
        "3\n",
        "4\n",
        "5\n",
        "6\n",
        "7\n",
        "8\n",
        "9\n",
        "10\n",
        "11\n",
        "12\n",
        "13\n",
        "14\n",
        "15\n",
        "16\n",
        "17\n",
        "18\n",
        "19"
      ],
      "metadata": {
        "colab": {
          "base_uri": "https://localhost:8080/"
        },
        "id": "TnVDEuHsFkgd",
        "outputId": "43767366-04ce-4ebb-8212-113d4bfe7736"
      },
      "execution_count": 10,
      "outputs": [
        {
          "output_type": "stream",
          "name": "stdout",
          "text": [
            "0\n",
            "1\n",
            "2\n",
            "3\n",
            "4\n",
            "5\n",
            "6\n",
            "7\n",
            "8\n",
            "9\n",
            "10\n",
            "11\n",
            "12\n",
            "13\n",
            "14\n",
            "15\n",
            "16\n",
            "17\n",
            "18\n",
            "19\n"
          ]
        },
        {
          "output_type": "execute_result",
          "data": {
            "text/plain": [
              "19"
            ]
          },
          "metadata": {},
          "execution_count": 10
        }
      ]
    },
    {
      "cell_type": "code",
      "source": [
        "fruits = [\"strawberry\", \"mamey\", \"watermelon\"]\n",
        "for index, fruit in enumerate(fruits):\n",
        "  print(index, fruit)"
      ],
      "metadata": {
        "colab": {
          "base_uri": "https://localhost:8080/"
        },
        "id": "NyQMe0z0ipKu",
        "outputId": "fe44bcbc-244a-455e-b320-bbf3a34bf6a6"
      },
      "execution_count": 11,
      "outputs": [
        {
          "output_type": "stream",
          "name": "stdout",
          "text": [
            "0 strawberry\n",
            "1 mamey\n",
            "2 watermelon\n"
          ]
        }
      ]
    },
    {
      "cell_type": "code",
      "source": [
        "import random\n",
        "\n",
        "my_list = []\n",
        "for i in range(20):\n",
        "  my_list.append(random.randint(1, 100))\n",
        "for i, num in enumerate(my_list):\n",
        "  print(\"Aguafresca \" + str(i) + \" \" + str(num))"
      ],
      "metadata": {
        "colab": {
          "base_uri": "https://localhost:8080/"
        },
        "id": "iHAN9cusGCjl",
        "outputId": "01191e5e-6ccd-4f9d-fb79-a8e84746971e"
      },
      "execution_count": 12,
      "outputs": [
        {
          "output_type": "stream",
          "name": "stdout",
          "text": [
            "Aguafresca 0 18\n",
            "Aguafresca 1 59\n",
            "Aguafresca 2 35\n",
            "Aguafresca 3 50\n",
            "Aguafresca 4 87\n",
            "Aguafresca 5 70\n",
            "Aguafresca 6 57\n",
            "Aguafresca 7 53\n",
            "Aguafresca 8 9\n",
            "Aguafresca 9 7\n",
            "Aguafresca 10 90\n",
            "Aguafresca 11 60\n",
            "Aguafresca 12 1\n",
            "Aguafresca 13 83\n",
            "Aguafresca 14 24\n",
            "Aguafresca 15 75\n",
            "Aguafresca 16 15\n",
            "Aguafresca 17 21\n",
            "Aguafresca 18 15\n",
            "Aguafresca 19 6\n"
          ]
        }
      ]
    },
    {
      "cell_type": "code",
      "source": [
        "import random\n",
        "globalList = []\n",
        "for a in range (20):\n",
        "  my_list = []\n",
        "  for i in range (10):\n",
        "    my_list.append(random.randint(1, 100))\n",
        "  globalList.append(my_list)\n",
        "\n",
        "for a, num in enumerate(globalList):\n",
        "  print(\"Aguafresca\" + str(a) + \" : \" + str(num))"
      ],
      "metadata": {
        "colab": {
          "base_uri": "https://localhost:8080/"
        },
        "id": "cNIlqJO4GJKL",
        "outputId": "701f24bc-45ee-4a2d-d031-618298c1d565"
      },
      "execution_count": 13,
      "outputs": [
        {
          "output_type": "stream",
          "name": "stdout",
          "text": [
            "Aguafresca0 : [44, 69, 42, 78, 8, 80, 34, 62, 30, 75]\n",
            "Aguafresca1 : [94, 80, 60, 74, 18, 41, 86, 13, 41, 30]\n",
            "Aguafresca2 : [42, 14, 67, 65, 72, 87, 4, 50, 40, 19]\n",
            "Aguafresca3 : [73, 19, 96, 4, 63, 72, 14, 82, 17, 78]\n",
            "Aguafresca4 : [30, 28, 46, 32, 74, 57, 29, 82, 48, 11]\n",
            "Aguafresca5 : [78, 15, 87, 14, 4, 59, 48, 63, 28, 89]\n",
            "Aguafresca6 : [34, 33, 34, 52, 78, 59, 80, 67, 92, 76]\n",
            "Aguafresca7 : [71, 16, 34, 72, 72, 9, 23, 10, 8, 13]\n",
            "Aguafresca8 : [36, 84, 8, 51, 73, 65, 15, 83, 36, 51]\n",
            "Aguafresca9 : [91, 63, 56, 15, 98, 68, 69, 65, 86, 70]\n",
            "Aguafresca10 : [20, 74, 5, 20, 5, 75, 69, 45, 31, 41]\n",
            "Aguafresca11 : [38, 95, 6, 23, 4, 45, 92, 21, 64, 46]\n",
            "Aguafresca12 : [58, 38, 1, 87, 70, 66, 90, 40, 69, 26]\n",
            "Aguafresca13 : [67, 33, 5, 4, 89, 24, 93, 89, 20, 74]\n",
            "Aguafresca14 : [43, 36, 19, 43, 59, 62, 52, 71, 100, 83]\n",
            "Aguafresca15 : [62, 6, 63, 71, 55, 63, 31, 65, 76, 64]\n",
            "Aguafresca16 : [49, 44, 52, 35, 82, 5, 67, 71, 51, 50]\n",
            "Aguafresca17 : [41, 64, 69, 5, 10, 37, 5, 73, 100, 20]\n",
            "Aguafresca18 : [52, 87, 1, 26, 46, 16, 92, 95, 78, 5]\n",
            "Aguafresca19 : [59, 92, 67, 85, 38, 33, 53, 46, 75, 10]\n"
          ]
        }
      ]
    },
    {
      "cell_type": "code",
      "source": [
        "import random\n",
        "\n",
        "my_list = [random.randint(1, 100) for i in range(10)]\n",
        "renditions = [my_list]\n",
        "for a in range (10):\n",
        "  new_list = [random.randint(1, 100) for i in range (10)]\n",
        "  if new_list not in renditions:\n",
        "    renditions.append(new_list)\n",
        "    print(\"Rendition\" + str(a+1) + \":\")\n",
        "    for i, num in enumerate(new_list):\n",
        "      print(\"Aguasfresca \" + str(i) + \": \" + str(num))\n",
        "  else:\n",
        "    print(\"Rendition \" + str(a+1) + \": Skipped\")"
      ],
      "metadata": {
        "colab": {
          "base_uri": "https://localhost:8080/"
        },
        "id": "MrSOJ6JfGKTk",
        "outputId": "5008ac64-c324-41fa-a661-19dd7563265c"
      },
      "execution_count": 14,
      "outputs": [
        {
          "output_type": "stream",
          "name": "stdout",
          "text": [
            "Rendition1:\n",
            "Aguasfresca 0: 40\n",
            "Aguasfresca 1: 78\n",
            "Aguasfresca 2: 90\n",
            "Aguasfresca 3: 53\n",
            "Aguasfresca 4: 95\n",
            "Aguasfresca 5: 41\n",
            "Aguasfresca 6: 25\n",
            "Aguasfresca 7: 40\n",
            "Aguasfresca 8: 75\n",
            "Aguasfresca 9: 96\n",
            "Rendition2:\n",
            "Aguasfresca 0: 86\n",
            "Aguasfresca 1: 81\n",
            "Aguasfresca 2: 9\n",
            "Aguasfresca 3: 72\n",
            "Aguasfresca 4: 68\n",
            "Aguasfresca 5: 12\n",
            "Aguasfresca 6: 77\n",
            "Aguasfresca 7: 95\n",
            "Aguasfresca 8: 14\n",
            "Aguasfresca 9: 70\n",
            "Rendition3:\n",
            "Aguasfresca 0: 12\n",
            "Aguasfresca 1: 9\n",
            "Aguasfresca 2: 91\n",
            "Aguasfresca 3: 95\n",
            "Aguasfresca 4: 43\n",
            "Aguasfresca 5: 61\n",
            "Aguasfresca 6: 32\n",
            "Aguasfresca 7: 36\n",
            "Aguasfresca 8: 86\n",
            "Aguasfresca 9: 76\n",
            "Rendition4:\n",
            "Aguasfresca 0: 81\n",
            "Aguasfresca 1: 81\n",
            "Aguasfresca 2: 57\n",
            "Aguasfresca 3: 35\n",
            "Aguasfresca 4: 40\n",
            "Aguasfresca 5: 85\n",
            "Aguasfresca 6: 30\n",
            "Aguasfresca 7: 17\n",
            "Aguasfresca 8: 4\n",
            "Aguasfresca 9: 55\n",
            "Rendition5:\n",
            "Aguasfresca 0: 51\n",
            "Aguasfresca 1: 96\n",
            "Aguasfresca 2: 61\n",
            "Aguasfresca 3: 34\n",
            "Aguasfresca 4: 3\n",
            "Aguasfresca 5: 55\n",
            "Aguasfresca 6: 75\n",
            "Aguasfresca 7: 13\n",
            "Aguasfresca 8: 5\n",
            "Aguasfresca 9: 11\n",
            "Rendition6:\n",
            "Aguasfresca 0: 71\n",
            "Aguasfresca 1: 36\n",
            "Aguasfresca 2: 58\n",
            "Aguasfresca 3: 15\n",
            "Aguasfresca 4: 65\n",
            "Aguasfresca 5: 71\n",
            "Aguasfresca 6: 62\n",
            "Aguasfresca 7: 47\n",
            "Aguasfresca 8: 76\n",
            "Aguasfresca 9: 10\n",
            "Rendition7:\n",
            "Aguasfresca 0: 41\n",
            "Aguasfresca 1: 67\n",
            "Aguasfresca 2: 54\n",
            "Aguasfresca 3: 62\n",
            "Aguasfresca 4: 14\n",
            "Aguasfresca 5: 25\n",
            "Aguasfresca 6: 4\n",
            "Aguasfresca 7: 58\n",
            "Aguasfresca 8: 89\n",
            "Aguasfresca 9: 13\n",
            "Rendition8:\n",
            "Aguasfresca 0: 30\n",
            "Aguasfresca 1: 81\n",
            "Aguasfresca 2: 74\n",
            "Aguasfresca 3: 88\n",
            "Aguasfresca 4: 36\n",
            "Aguasfresca 5: 39\n",
            "Aguasfresca 6: 72\n",
            "Aguasfresca 7: 57\n",
            "Aguasfresca 8: 64\n",
            "Aguasfresca 9: 83\n",
            "Rendition9:\n",
            "Aguasfresca 0: 27\n",
            "Aguasfresca 1: 18\n",
            "Aguasfresca 2: 68\n",
            "Aguasfresca 3: 32\n",
            "Aguasfresca 4: 87\n",
            "Aguasfresca 5: 50\n",
            "Aguasfresca 6: 86\n",
            "Aguasfresca 7: 59\n",
            "Aguasfresca 8: 17\n",
            "Aguasfresca 9: 74\n",
            "Rendition10:\n",
            "Aguasfresca 0: 76\n",
            "Aguasfresca 1: 22\n",
            "Aguasfresca 2: 11\n",
            "Aguasfresca 3: 87\n",
            "Aguasfresca 4: 14\n",
            "Aguasfresca 5: 98\n",
            "Aguasfresca 6: 86\n",
            "Aguasfresca 7: 77\n",
            "Aguasfresca 8: 31\n",
            "Aguasfresca 9: 96\n"
          ]
        }
      ]
    },
    {
      "cell_type": "code",
      "source": [
        "import random\n",
        "\n",
        "# Define lists of possible flavors and sizes\n",
        "flavors = [\"Horchata\", \"Jaimaica\", \"Strawberry\", \"Lemon\", \"Watermelon\", \"Mamey\"]\n",
        "sizes = [\"small\", \"medium\", \"large\"]\n",
        "\n",
        "for a in range(10):\n",
        "  # Generate a random flavor and size for each cone\n",
        "  flavor = random.choice(flavors)\n",
        "  size = random.choice(sizes)\n",
        "  AguaFresca = (flavor, size)\n",
        "  print(str(flavor))"
      ],
      "metadata": {
        "colab": {
          "base_uri": "https://localhost:8080/"
        },
        "id": "kmxuHE4oGSUA",
        "outputId": "65c804e6-248a-4191-8503-7465cc7ebdd0"
      },
      "execution_count": 15,
      "outputs": [
        {
          "output_type": "stream",
          "name": "stdout",
          "text": [
            "Horchata\n",
            "Jaimaica\n",
            "Watermelon\n",
            "Watermelon\n",
            "Horchata\n",
            "Strawberry\n",
            "Strawberry\n",
            "Jaimaica\n",
            "Strawberry\n",
            "Lemon\n"
          ]
        }
      ]
    },
    {
      "cell_type": "code",
      "source": [
        "import random\n",
        "\n",
        "\n",
        "adjectives1 = [\"sweet\", \"cold\", \"sour\", \"pink\", \"funky\", \"tasty\"]\n",
        "adjectives2 = [\"green\", \"icy\", \"melting\", \"yellow\", \"sweet\", \"hot\"]\n",
        "adjectives3 = [\"spicy\", \"happy\", \"angry\", \"pink\", \"funny\", \"tart\"]\n",
        "\n",
        "\n",
        "string = random.choice(adjectives1) + \" \" + random.choice(adjectives2) + \" \" + random.choice(adjectives3) + \" \"\n",
        "\n",
        "print(string)"
      ],
      "metadata": {
        "colab": {
          "base_uri": "https://localhost:8080/"
        },
        "id": "afjvqOi2GtZk",
        "outputId": "d4d638b8-d2b7-429f-d4bf-beb02bd8cd07"
      },
      "execution_count": 16,
      "outputs": [
        {
          "output_type": "stream",
          "name": "stdout",
          "text": [
            "cold melting pink \n"
          ]
        }
      ]
    },
    {
      "cell_type": "code",
      "execution_count": 19,
      "metadata": {
        "id": "Z02W9zX1wrFl"
      },
      "outputs": [],
      "source": [
        "import random\n",
        "\n",
        "flavors = [\"watermelon\", \"strawberry\", \"pineapple\", \"cucumber\", \"mango\", \"tamarind\", \"hibiscus\"]\n",
        "sizes = [\"small\", \"medium\", \"large\"]\n",
        "\n",
        "\n",
        "class Inventory:\n",
        "    def __init__(self):\n",
        "        self.aguas = []\n",
        "\n",
        "        num_aguas = random.randint(10, 20)\n",
        "\n",
        "        for i in range(num_aguas):\n",
        "            flavor = random.choice(flavors)\n",
        "            size = random.choice(sizes)\n",
        "            agua = AguaFresca(flavor, size)\n",
        "            self.aguas.append(agua)\n",
        "\n",
        "    def add_agua(self, agua):\n",
        "        self.aguas.append(agua)\n",
        "\n",
        "    def display_inventory(self):\n",
        "        for agua in self.aguas:\n",
        "            print(agua)\n",
        "\n",
        "class AguaFresca:\n",
        "    def __init__(self, flavor, size):\n",
        "        self.flavor = flavor\n",
        "        self.size = size\n",
        "\n",
        "    def __str__(self):\n",
        "        return f\"{self.size.capitalize()} {self.flavor.capitalize()} Agua Fresca\""
      ]
    },
    {
      "cell_type": "code",
      "source": [
        "import random\n",
        "\n",
        "class Stand:\n",
        "    def __init__(self, name, flavors):\n",
        "        self.name = name\n",
        "        self.aguafresca = AguaFresca(flavors)\n",
        "        self.customers = []\n",
        "\n",
        "    def add_customer(self, customer):\n",
        "        self.customers.append(customer)\n",
        "\n",
        "    def get_customers(self):\n",
        "        for customer in self.customers:\n",
        "            print(\"Customer \" + customer.get_name() + \" is busy shopping.\")\n",
        "\n",
        "    def run(self):\n",
        "        print(\"Welcome to \" + self.name + \"!\")\n",
        "        print(\"We have \" + str(len(self.customers)) + \" customers today.\")\n",
        "\n",
        "        for customer in self.customers:\n",
        "            print(\"Customer \" + customer.name + \" is shopping.\")\n",
        "            item = random.choice(self.aguafresca.flavors)\n",
        "            customer.add_to_order(item)\n",
        "            print(\"Customer \" + customer.name + \" added \" + str(item) + \" to their order.\")\n",
        "\n",
        "\n",
        "class Customer:\n",
        "    def __init__(self, name):\n",
        "        self.name = name\n",
        "        self.order = []\n",
        "\n",
        "    def get_name(self):\n",
        "        return self.name\n",
        "\n",
        "    def add_to_order(self, product):\n",
        "        self.order.append(product)\n",
        "\n",
        "    def __str__(self):\n",
        "        return self.name + \" (\" + str(self.order) + \")\"\n",
        "\n",
        "class AguaFresca:\n",
        "    def __init__(self, flavors):\n",
        "        self.flavors = flavors\n",
        "\n",
        "stand = Stand(\"Agua Fresca Cali Stand\", [\"Watermelon\", \"Lemon\", \"Jamaica\"])\n",
        "\n",
        "names = [\"Samantha\", \"Lesly\", \"Destiny\", \"Daniela\", \"Jim\", \"Grace\", \"Frank\", \"Melody\", \"Justin\"]\n",
        "for name in names:\n",
        "    stand.add_customer(Customer(name))\n",
        "\n",
        "stand.get_customers()\n",
        "stand.run()\n",
        "\n"
      ],
      "metadata": {
        "colab": {
          "base_uri": "https://localhost:8080/"
        },
        "id": "3z26ccukWFyb",
        "outputId": "0354ce45-1fea-4aad-b1bd-2f7696377b41"
      },
      "execution_count": 21,
      "outputs": [
        {
          "output_type": "stream",
          "name": "stdout",
          "text": [
            "Customer Samantha is busy shopping.\n",
            "Customer Lesly is busy shopping.\n",
            "Customer Destiny is busy shopping.\n",
            "Customer Daniela is busy shopping.\n",
            "Customer Jim is busy shopping.\n",
            "Customer Grace is busy shopping.\n",
            "Customer Frank is busy shopping.\n",
            "Customer Melody is busy shopping.\n",
            "Customer Justin is busy shopping.\n",
            "Welcome to Agua Fresca Cali Stand!\n",
            "We have 9 customers today.\n",
            "Customer Samantha is shopping.\n",
            "Customer Samantha added Jamaica to their order.\n",
            "Customer Lesly is shopping.\n",
            "Customer Lesly added Jamaica to their order.\n",
            "Customer Destiny is shopping.\n",
            "Customer Destiny added Lemon to their order.\n",
            "Customer Daniela is shopping.\n",
            "Customer Daniela added Lemon to their order.\n",
            "Customer Jim is shopping.\n",
            "Customer Jim added Lemon to their order.\n",
            "Customer Grace is shopping.\n",
            "Customer Grace added Watermelon to their order.\n",
            "Customer Frank is shopping.\n",
            "Customer Frank added Watermelon to their order.\n",
            "Customer Melody is shopping.\n",
            "Customer Melody added Watermelon to their order.\n",
            "Customer Justin is shopping.\n",
            "Customer Justin added Lemon to their order.\n"
          ]
        }
      ]
    },
    {
      "cell_type": "code",
      "execution_count": 22,
      "metadata": {
        "id": "D3dvE7u4eCMP"
      },
      "outputs": [],
      "source": [
        "import random"
      ]
    },
    {
      "cell_type": "code",
      "source": [
        "class AguaFrescaPurchase:\n",
        "   def __init__(self):\n",
        "        self.total = 0\n",
        "   def increment(self, price):\n",
        "        self.total += price\n",
        "   def __str__(self):\n",
        "        return \"Total purchase of Agua Fresca: $\" + str(self.total)"
      ],
      "metadata": {
        "id": "TaitmIyITYB-"
      },
      "execution_count": 23,
      "outputs": []
    },
    {
      "cell_type": "code",
      "source": [
        "import random\n",
        "\n",
        "flavors = [\"watermelon\", \"strawberry\", \"pineapple\", \"cucumber\", \"mango\", \"tamarind\", \"hibiscus\"]\n",
        "sizes = [\"small\", \"medium\", \"large\"]\n",
        "\n",
        "class AguaFresca:\n",
        "    def __init__(self, flavors, sizes):\n",
        "        self.flavors = flavors\n",
        "        self.sizes = sizes\n",
        "\n",
        "    def display_inventory(self):\n",
        "        print(\"Available flavors:\")\n",
        "        for flavor in self.flavors:\n",
        "            print(\"- \" + flavor)\n",
        "        print(\"Available sizes:\")\n",
        "        for size in self.sizes:\n",
        "            print(\"- \" + size)\n",
        "\n",
        "class Purchase:\n",
        "    pass\n",
        "\n",
        "class Customer:\n",
        "    def __init__(self, name):\n",
        "        self.name = name\n",
        "        self.order = []\n",
        "\n",
        "    def add_to_order(self, item):\n",
        "        self.order.append(item)\n",
        "\n",
        "class Stand:\n",
        "    def __init__(self, name):\n",
        "        self.name = name\n",
        "        self.inventory = AguaFresca(flavors, sizes)\n",
        "        self.customers = []\n",
        "        self.purchase = Purchase()\n",
        "\n",
        "    def add_customer(self, customer):\n",
        "        self.customers.append(customer)\n",
        "\n",
        "    def run(self):\n",
        "        print(\"Welcome to \" + self.name + \"!\")\n",
        "        self.inventory.display_inventory()\n",
        "        print(\"We have \" + str(len(self.customers)) + \" customers today.\")\n",
        "\n",
        "        for customer in self.customers:\n",
        "            print(\"Customer \" + customer.name + \" is shopping.\")\n",
        "            flavor = random.choice(self.inventory.flavors)\n",
        "            size = random.choice(self.inventory.sizes)\n",
        "            item = (flavor, size)\n",
        "            customer.add_to_order(item)\n",
        "            print(\"Customer \" + customer.name + \" added \" + str(item) + \" to their order.\")\n",
        "\n",
        "\n",
        "stand = Stand(\"Agua Fresca Stand\")\n",
        "\n",
        "names = [\"Johanna\", \"Andrew\", \"Miguel\", \"Lorena\", \"Ricardo\", \"Sandra\"]\n",
        "for name in names:\n",
        "    stand.add_customer(Customer(name))\n",
        "\n",
        "print(\"Customers:\")\n",
        "for customer in stand.customers:\n",
        "    print(customer.name)\n",
        "\n",
        "stand.run()\n"
      ],
      "metadata": {
        "colab": {
          "base_uri": "https://localhost:8080/"
        },
        "id": "MkJDz4zWWgz5",
        "outputId": "ed77b025-4a49-42fa-a4c5-3223d9902d62"
      },
      "execution_count": 27,
      "outputs": [
        {
          "output_type": "stream",
          "name": "stdout",
          "text": [
            "Customers:\n",
            "Johanna\n",
            "Andrew\n",
            "Miguel\n",
            "Lorena\n",
            "Ricardo\n",
            "Sandra\n",
            "Welcome to Agua Fresca Stand!\n",
            "Available flavors:\n",
            "- watermelon\n",
            "- strawberry\n",
            "- pineapple\n",
            "- cucumber\n",
            "- mango\n",
            "- tamarind\n",
            "- hibiscus\n",
            "Available sizes:\n",
            "- small\n",
            "- medium\n",
            "- large\n",
            "We have 6 customers today.\n",
            "Customer Johanna is shopping.\n",
            "Customer Johanna added ('watermelon', 'large') to their order.\n",
            "Customer Andrew is shopping.\n",
            "Customer Andrew added ('cucumber', 'large') to their order.\n",
            "Customer Miguel is shopping.\n",
            "Customer Miguel added ('pineapple', 'medium') to their order.\n",
            "Customer Lorena is shopping.\n",
            "Customer Lorena added ('strawberry', 'medium') to their order.\n",
            "Customer Ricardo is shopping.\n",
            "Customer Ricardo added ('watermelon', 'medium') to their order.\n",
            "Customer Sandra is shopping.\n",
            "Customer Sandra added ('strawberry', 'medium') to their order.\n"
          ]
        }
      ]
    },
    {
      "cell_type": "code",
      "source": [
        "import random\n",
        "\n",
        "class Purchase:\n",
        "    def __init__(self):\n",
        "        self.total = 0\n",
        "\n",
        "    def increment(self, price):\n",
        "        self.total += price\n",
        "\n",
        "    def __str__(self):\n",
        "        return \"Sale: $\" + str(self.total)\n",
        "\n",
        "flavors = [\"watermelon\", \"strawberry\", \"pineapple\", \"mango\", \"cucumber\", \"melon\", \"tamarind\", \"lime\", \"hibiscus\"]\n",
        "sizes = [\"small\", \"medium\", \"large\"]\n",
        "\n",
        "class Inventory:\n",
        "    def __init__(self):\n",
        "        self.drinks = []\n",
        "\n",
        "        num_drinks = random.randint(10, 20)\n",
        "\n",
        "        for i in range(num_drinks):\n",
        "            flavor = random.choice(flavors)\n",
        "            size = random.choice(sizes)\n",
        "            drink = AguaFresca(flavor, size)\n",
        "            self.drinks.append(drink)\n",
        "\n",
        "    def add_drink(self, drink):\n",
        "        self.drinks.append(drink)\n",
        "\n",
        "    def display_order(self):\n",
        "        for drink in self.drinks:\n",
        "            print(drink)\n",
        "\n",
        "class AguaFresca:\n",
        "    def __init__(self, flavor, size):\n",
        "        self.price = round(random.uniform(1, 5), 2)\n",
        "        self.flavor = flavor\n",
        "        self.size = size\n",
        "\n",
        "    def __str__(self):\n",
        "        return f'Flavor: {self.flavor}, Size: {self.size}'"
      ],
      "metadata": {
        "id": "e12MnzRwYsjD"
      },
      "execution_count": null,
      "outputs": []
    },
    {
      "cell_type": "code",
      "source": [
        "import random\n",
        "\n",
        "class Purchase:\n",
        "    def __init__(self):\n",
        "        self.total = 0\n",
        "\n",
        "    def increment(self, price):\n",
        "            self.total += price\n",
        "\n",
        "    def __str__(self):\n",
        "        return \"Sale: $\" + str(self.total)\n",
        "\n",
        "flavors = [\"watermelon\", \"strawberry\", \"pineapple\", \"mango\", \"cucumber\", \"tamarind\"]\n",
        "sizes = [\"small\", \"medium\", \"large\"]\n",
        "\n",
        "class Inventory:\n",
        "    def __init__(self):\n",
        "        self.agua_frescas = []\n",
        "\n",
        "        num_frescas = random.randint(10, 20)\n",
        "\n",
        "        for i in range(num_frescas):\n",
        "            flavor = random.choice(flavors)\n",
        "            agua_fresca = AguaFresca(flavor)\n",
        "            self.agua_frescas.append(agua_fresca)\n",
        "\n",
        "    def add_agua_fresca(self, fresca):\n",
        "        self.agua_frescas.append(fresca)\n",
        "\n",
        "    def display_menu(self):\n",
        "        for fresca in self.agua_frescas:\n",
        "            print(fresca)\n",
        "\n",
        "class AguaFresca:\n",
        "    def __init__(self, flavor):\n",
        "        self.price = round(random.uniform(1, 5), 2)\n",
        "        self.flavor = random.choice(flavor)\n",
        "        self.size = random.choice(sizes)\n",
        "\n",
        "    def __str__(self):\n",
        "        return f'Agua Fresca: {self.flavor}, Size: {self.size}'\n",
        "\n",
        "class Stand:\n",
        "    def __init__(self, name):\n",
        "        self.name = name\n",
        "        self.inventory = Inventory()\n",
        "        self.customers = []\n",
        "        self.purchase = Purchase()\n",
        "\n",
        "    def add_customer(self, customer):\n",
        "        self.customers.append(customer)\n",
        "\n",
        "    def get_customers(self):\n",
        "        for customer in self.customers:\n",
        "            print(\"Customer \" + customer.get_name() + \" is busy shopping.\")\n",
        "\n",
        "    def run(self):\n",
        "        print(\"Welcome to \" + self.name + \"!\")\n",
        "        self.inventory.display_menu()\n",
        "        print(\"We have \" + str(len(self.customers)) + \" customers today.\")\n",
        "\n",
        "        for customer in self.customers:\n",
        "            print(\"Customer \" + customer.name + \" is shopping.\")\n",
        "            fresca = random.choice(self.inventory.agua_frescas)\n",
        "            customer.add_to_order(fresca)\n",
        "            print(\"Customer \" + customer.name + \" added \" + str(fresca) + \" to their order.\")\n",
        "\n",
        "            self.purchase.increment(fresca.price)\n",
        "            print(\"Customer \" + customer.name + \" checked out and paid $\" + str(fresca.price) + \".\")\n",
        "        print(\"The total sales for \" + self.name + \" today is $\" + str(self.purchase.total) + \".\")\n",
        "\n",
        "    def __str__(self):\n",
        "        return self.name + \" (Sales: $\" + str(self.purchase.total) + \")\"\n",
        "\n",
        "class Customer:\n",
        "    def __init__(self, name):\n",
        "        self.name = name\n",
        "        self.order = Order()\n",
        "\n",
        "    def get_name(self):\n",
        "        return self.name\n",
        "\n",
        "    def add_to_order(self, product):\n",
        "        self.order.add(product)\n",
        "\n",
        "    def __str__(self):\n",
        "        return self.name + \" (\" + str(self.order) + \")\"\n",
        "\n",
        "class Order:\n",
        "    def __init__(self):\n",
        "        self.products = []\n",
        "\n",
        "    def add(self, product):\n",
        "        self.products.append(product)\n",
        "\n",
        "    def __str__(self):\n",
        "        result = \"Order:\\n\"\n",
        "        for product in self.products:\n",
        "            result += str(product) + \"\\n\"\n",
        "        return result\n",
        "\n",
        "\n",
        "stand = Stand(\"Agua Fresca Juice Shop\")\n",
        "customer1 = Customer(\"Johanna\")\n",
        "customer2 = Customer(\"Andrew\")\n",
        "stand.add_customer(customer1)\n",
        "stand.add_customer(customer2)\n",
        "stand.run()\n"
      ],
      "metadata": {
        "colab": {
          "base_uri": "https://localhost:8080/"
        },
        "id": "1bhjgcp1aPdf",
        "outputId": "d472fde5-5758-4cf7-9add-a5b764199732"
      },
      "execution_count": 32,
      "outputs": [
        {
          "output_type": "stream",
          "name": "stdout",
          "text": [
            "Welcome to Agua Fresca Juice Shop!\n",
            "Agua Fresca: c, Size: medium\n",
            "Agua Fresca: o, Size: medium\n",
            "Agua Fresca: n, Size: small\n",
            "Agua Fresca: m, Size: small\n",
            "Agua Fresca: m, Size: small\n",
            "Agua Fresca: a, Size: medium\n",
            "Agua Fresca: b, Size: medium\n",
            "Agua Fresca: r, Size: large\n",
            "Agua Fresca: p, Size: medium\n",
            "Agua Fresca: u, Size: large\n",
            "Agua Fresca: m, Size: large\n",
            "Agua Fresca: r, Size: large\n",
            "Agua Fresca: t, Size: small\n",
            "Agua Fresca: m, Size: medium\n",
            "Agua Fresca: a, Size: small\n",
            "Agua Fresca: l, Size: large\n",
            "Agua Fresca: a, Size: large\n",
            "Agua Fresca: a, Size: small\n",
            "Agua Fresca: u, Size: large\n",
            "Agua Fresca: t, Size: large\n",
            "We have 2 customers today.\n",
            "Customer Johanna is shopping.\n",
            "Customer Johanna added Agua Fresca: a, Size: small to their order.\n",
            "Customer Johanna checked out and paid $4.96.\n",
            "Customer Andrew is shopping.\n",
            "Customer Andrew added Agua Fresca: a, Size: small to their order.\n",
            "Customer Andrew checked out and paid $4.96.\n",
            "The total sales for Agua Fresca Juice Shop today is $9.92.\n"
          ]
        }
      ]
    },
    {
      "cell_type": "code",
      "source": [
        "import os\n",
        "\n",
        "cwd = os.getcwd()\n",
        "\n",
        "files = os.listdir(cwd)\n",
        "\n",
        "csv_files = [f for f in files if f.endswith('.csv')]\n",
        "\n",
        "for f in csv_files:\n",
        "    os.remove(os.path.join(cwd, f))\n",
        "\n",
        "import pandas as pd\n",
        "import random\n",
        "\n",
        "cities = ['happy city', 'marble city', 'bubble city', 'tustin', 'anaheim', 'san diego', 'new york city', 'leaf city']\n",
        "\n",
        "weekly_totals_per_store = []\n",
        "\n",
        "for city in cities:\n",
        "    store_name = city\n",
        "    weekly_sales_total = random.randint(100000, 1000000)\n",
        "    store_dict = {'Agua Fresca Juice Shop': store_name, 'weekly_sales_total': weekly_sales_total}\n",
        "    weekly_totals_per_store.append(store_dict)\n",
        "\n",
        "df = pd.DataFrame(weekly_totals_per_store)\n",
        "\n",
        "df.to_csv('weekly_sales.csv', index=False)\n",
        "\n",
        "print(\"Data saved to 'weekly_sales.csv'\")"
      ],
      "metadata": {
        "colab": {
          "base_uri": "https://localhost:8080/"
        },
        "id": "iR6K9Gg8eXg2",
        "outputId": "fb5f1b1b-0086-41b3-a974-519bb17b2973"
      },
      "execution_count": 33,
      "outputs": [
        {
          "output_type": "stream",
          "name": "stdout",
          "text": [
            "Data saved to 'weekly_sales.csv'\n"
          ]
        }
      ]
    },
    {
      "cell_type": "code",
      "source": [
        "import pandas as pd\n",
        "import random\n",
        "from datetime import datetime, timedelta\n",
        "\n",
        "cities = ['happy city', 'marble city', 'bubble city', 'tustin', 'anaheim', 'san diego', 'new york city', 'leaf city']\n",
        "\n",
        "weekly_totals_per_store = []\n",
        "\n",
        "start_date = datetime(2024, 1, 1)\n",
        "end_date = datetime(2024, 12, 31)\n",
        "current_date = start_date\n",
        "\n",
        "while current_date <= end_date:\n",
        "    week_name = current_date.strftime('%B-%d-%Y')\n",
        "    current_date += timedelta(days=7)\n"
      ],
      "metadata": {
        "id": "AOCQJIHbea6g"
      },
      "execution_count": 44,
      "outputs": []
    },
    {
      "cell_type": "code",
      "source": [
        "cities = ['happy city', 'marble city', 'bubble city', 'tustin', 'anaheim', 'san diego', 'new york city', 'leaf city']\n",
        "\n",
        "start_date = datetime(2024, 1, 1)\n",
        "end_date = datetime(2024, 12, 31)\n",
        "current_date = start_date\n",
        "\n",
        "while current_date <= end_date:\n",
        "    weekly_totals_per_store = []\n",
        "    week_name = current_date.strftime('%B-%d-%Y')\n",
        "    current_date += timedelta(days=7)\n",
        "    for city in cities:\n",
        "        store_name = city\n",
        "        weekly_sales_total = random.randint(100000, 1000000)\n",
        "        store_dict = {'Agua Fresca Juice Shop': store_name, 'weekly_sales_total': weekly_sales_total}\n",
        "        weekly_totals_per_store.append(store_dict)\n",
        "\n",
        "        df = pd.DataFrame(weekly_totals_per_store)\n",
        "\n",
        "        save_as = week_name.replace(' ', '-').lower() + '.csv'\n",
        "        df.to_csv(save_as, index=False)"
      ],
      "metadata": {
        "id": "J3canUYYfRF6"
      },
      "execution_count": 35,
      "outputs": []
    },
    {
      "cell_type": "code",
      "source": [
        "import os\n",
        "\n",
        "current_directory = os.getcwd()\n",
        "\n",
        "all_files = os.listdir(current_directory)\n",
        "\n",
        "csv_files = [file for file in all_files if file.endswith('.csv')]"
      ],
      "metadata": {
        "id": "nuU0nkXofhE2"
      },
      "execution_count": 43,
      "outputs": []
    },
    {
      "cell_type": "code",
      "source": [
        "import pandas as pd\n",
        "import os\n",
        "\n",
        "current_directory = os.getcwd()\n",
        "\n",
        "all_files = os.listdir(current_directory)\n",
        "\n",
        "csv_files = [file for file in all_files if file.endswith('.csv')]\n",
        "\n",
        "all_stores_all_weekly_sales = []\n",
        "\n",
        "for filename in csv_files:\n",
        "    df = pd.read_csv(filename)\n",
        "    week_name = filename.replace('.csv', '')\n",
        "    for _, row in df.iterrows():\n",
        "        row_dict = row.to_dict()\n",
        "        row_dict['week'] = week_name\n",
        "        all_stores_all_weekly_sales.append(row_dict)\n",
        "\n",
        "print(all_stores_all_weekly_sales)"
      ],
      "metadata": {
        "colab": {
          "base_uri": "https://localhost:8080/"
        },
        "id": "L5XQYCspfi2k",
        "outputId": "f8a3f599-01bd-4a36-dec9-322444571000"
      },
      "execution_count": 37,
      "outputs": [
        {
          "output_type": "stream",
          "name": "stdout",
          "text": [
            "[{'Agua Fresca Juice Shop': 'happy city', 'weekly_sales_total': 916153, 'week': 'february-19-2024'}, {'Agua Fresca Juice Shop': 'marble city', 'weekly_sales_total': 515125, 'week': 'february-19-2024'}, {'Agua Fresca Juice Shop': 'bubble city', 'weekly_sales_total': 127326, 'week': 'february-19-2024'}, {'Agua Fresca Juice Shop': 'tustin', 'weekly_sales_total': 821887, 'week': 'february-19-2024'}, {'Agua Fresca Juice Shop': 'anaheim', 'weekly_sales_total': 306787, 'week': 'february-19-2024'}, {'Agua Fresca Juice Shop': 'san diego', 'weekly_sales_total': 813904, 'week': 'february-19-2024'}, {'Agua Fresca Juice Shop': 'new york city', 'weekly_sales_total': 326576, 'week': 'february-19-2024'}, {'Agua Fresca Juice Shop': 'leaf city', 'weekly_sales_total': 415002, 'week': 'february-19-2024'}, {'Agua Fresca Juice Shop': 'happy city', 'weekly_sales_total': 230742, 'week': 'january-08-2024'}, {'Agua Fresca Juice Shop': 'marble city', 'weekly_sales_total': 956126, 'week': 'january-08-2024'}, {'Agua Fresca Juice Shop': 'bubble city', 'weekly_sales_total': 586205, 'week': 'january-08-2024'}, {'Agua Fresca Juice Shop': 'tustin', 'weekly_sales_total': 798645, 'week': 'january-08-2024'}, {'Agua Fresca Juice Shop': 'anaheim', 'weekly_sales_total': 288388, 'week': 'january-08-2024'}, {'Agua Fresca Juice Shop': 'san diego', 'weekly_sales_total': 396316, 'week': 'january-08-2024'}, {'Agua Fresca Juice Shop': 'new york city', 'weekly_sales_total': 730142, 'week': 'january-08-2024'}, {'Agua Fresca Juice Shop': 'leaf city', 'weekly_sales_total': 948957, 'week': 'january-08-2024'}, {'Agua Fresca Juice Shop': 'happy city', 'weekly_sales_total': 918719, 'week': 'march-11-2024'}, {'Agua Fresca Juice Shop': 'marble city', 'weekly_sales_total': 160613, 'week': 'march-11-2024'}, {'Agua Fresca Juice Shop': 'bubble city', 'weekly_sales_total': 401558, 'week': 'march-11-2024'}, {'Agua Fresca Juice Shop': 'tustin', 'weekly_sales_total': 660850, 'week': 'march-11-2024'}, {'Agua Fresca Juice Shop': 'anaheim', 'weekly_sales_total': 170257, 'week': 'march-11-2024'}, {'Agua Fresca Juice Shop': 'san diego', 'weekly_sales_total': 799326, 'week': 'march-11-2024'}, {'Agua Fresca Juice Shop': 'new york city', 'weekly_sales_total': 932594, 'week': 'march-11-2024'}, {'Agua Fresca Juice Shop': 'leaf city', 'weekly_sales_total': 205395, 'week': 'march-11-2024'}, {'Agua Fresca Juice Shop': 'happy city', 'weekly_sales_total': 510668, 'week': 'november-25-2024'}, {'Agua Fresca Juice Shop': 'marble city', 'weekly_sales_total': 289075, 'week': 'november-25-2024'}, {'Agua Fresca Juice Shop': 'bubble city', 'weekly_sales_total': 312281, 'week': 'november-25-2024'}, {'Agua Fresca Juice Shop': 'tustin', 'weekly_sales_total': 497710, 'week': 'november-25-2024'}, {'Agua Fresca Juice Shop': 'anaheim', 'weekly_sales_total': 797198, 'week': 'november-25-2024'}, {'Agua Fresca Juice Shop': 'san diego', 'weekly_sales_total': 482017, 'week': 'november-25-2024'}, {'Agua Fresca Juice Shop': 'new york city', 'weekly_sales_total': 737018, 'week': 'november-25-2024'}, {'Agua Fresca Juice Shop': 'leaf city', 'weekly_sales_total': 115413, 'week': 'november-25-2024'}, {'Agua Fresca Juice Shop': 'happy city', 'weekly_sales_total': 999040, 'week': 'october-21-2024'}, {'Agua Fresca Juice Shop': 'marble city', 'weekly_sales_total': 116359, 'week': 'october-21-2024'}, {'Agua Fresca Juice Shop': 'bubble city', 'weekly_sales_total': 521833, 'week': 'october-21-2024'}, {'Agua Fresca Juice Shop': 'tustin', 'weekly_sales_total': 191936, 'week': 'october-21-2024'}, {'Agua Fresca Juice Shop': 'anaheim', 'weekly_sales_total': 561102, 'week': 'october-21-2024'}, {'Agua Fresca Juice Shop': 'san diego', 'weekly_sales_total': 664148, 'week': 'october-21-2024'}, {'Agua Fresca Juice Shop': 'new york city', 'weekly_sales_total': 290336, 'week': 'october-21-2024'}, {'Agua Fresca Juice Shop': 'leaf city', 'weekly_sales_total': 154157, 'week': 'october-21-2024'}, {'Agua Fresca Juice Shop': 'happy city', 'weekly_sales_total': 364422, 'week': 'january-29-2024'}, {'Agua Fresca Juice Shop': 'marble city', 'weekly_sales_total': 148280, 'week': 'january-29-2024'}, {'Agua Fresca Juice Shop': 'bubble city', 'weekly_sales_total': 184726, 'week': 'january-29-2024'}, {'Agua Fresca Juice Shop': 'tustin', 'weekly_sales_total': 768047, 'week': 'january-29-2024'}, {'Agua Fresca Juice Shop': 'anaheim', 'weekly_sales_total': 676000, 'week': 'january-29-2024'}, {'Agua Fresca Juice Shop': 'san diego', 'weekly_sales_total': 654820, 'week': 'january-29-2024'}, {'Agua Fresca Juice Shop': 'new york city', 'weekly_sales_total': 509921, 'week': 'january-29-2024'}, {'Agua Fresca Juice Shop': 'leaf city', 'weekly_sales_total': 732109, 'week': 'january-29-2024'}, {'Agua Fresca Juice Shop': 'happy city', 'weekly_sales_total': 733511, 'week': 'october-28-2024'}, {'Agua Fresca Juice Shop': 'marble city', 'weekly_sales_total': 358870, 'week': 'october-28-2024'}, {'Agua Fresca Juice Shop': 'bubble city', 'weekly_sales_total': 151090, 'week': 'october-28-2024'}, {'Agua Fresca Juice Shop': 'tustin', 'weekly_sales_total': 187616, 'week': 'october-28-2024'}, {'Agua Fresca Juice Shop': 'anaheim', 'weekly_sales_total': 894278, 'week': 'october-28-2024'}, {'Agua Fresca Juice Shop': 'san diego', 'weekly_sales_total': 181530, 'week': 'october-28-2024'}, {'Agua Fresca Juice Shop': 'new york city', 'weekly_sales_total': 956914, 'week': 'october-28-2024'}, {'Agua Fresca Juice Shop': 'leaf city', 'weekly_sales_total': 621557, 'week': 'october-28-2024'}, {'Agua Fresca Juice Shop': 'happy city', 'weekly_sales_total': 163807, 'week': 'september-09-2024'}, {'Agua Fresca Juice Shop': 'marble city', 'weekly_sales_total': 868223, 'week': 'september-09-2024'}, {'Agua Fresca Juice Shop': 'bubble city', 'weekly_sales_total': 170638, 'week': 'september-09-2024'}, {'Agua Fresca Juice Shop': 'tustin', 'weekly_sales_total': 684206, 'week': 'september-09-2024'}, {'Agua Fresca Juice Shop': 'anaheim', 'weekly_sales_total': 123163, 'week': 'september-09-2024'}, {'Agua Fresca Juice Shop': 'san diego', 'weekly_sales_total': 759874, 'week': 'september-09-2024'}, {'Agua Fresca Juice Shop': 'new york city', 'weekly_sales_total': 983900, 'week': 'september-09-2024'}, {'Agua Fresca Juice Shop': 'leaf city', 'weekly_sales_total': 886255, 'week': 'september-09-2024'}, {'Agua Fresca Juice Shop': 'happy city', 'weekly_sales_total': 866165, 'week': 'november-11-2024'}, {'Agua Fresca Juice Shop': 'marble city', 'weekly_sales_total': 248827, 'week': 'november-11-2024'}, {'Agua Fresca Juice Shop': 'bubble city', 'weekly_sales_total': 293717, 'week': 'november-11-2024'}, {'Agua Fresca Juice Shop': 'tustin', 'weekly_sales_total': 611959, 'week': 'november-11-2024'}, {'Agua Fresca Juice Shop': 'anaheim', 'weekly_sales_total': 243046, 'week': 'november-11-2024'}, {'Agua Fresca Juice Shop': 'san diego', 'weekly_sales_total': 201416, 'week': 'november-11-2024'}, {'Agua Fresca Juice Shop': 'new york city', 'weekly_sales_total': 499425, 'week': 'november-11-2024'}, {'Agua Fresca Juice Shop': 'leaf city', 'weekly_sales_total': 116980, 'week': 'november-11-2024'}, {'Agua Fresca Juice Shop': 'happy city', 'weekly_sales_total': 856574, 'week': 'april-29-2024'}, {'Agua Fresca Juice Shop': 'marble city', 'weekly_sales_total': 790463, 'week': 'april-29-2024'}, {'Agua Fresca Juice Shop': 'bubble city', 'weekly_sales_total': 395582, 'week': 'april-29-2024'}, {'Agua Fresca Juice Shop': 'tustin', 'weekly_sales_total': 696872, 'week': 'april-29-2024'}, {'Agua Fresca Juice Shop': 'anaheim', 'weekly_sales_total': 696326, 'week': 'april-29-2024'}, {'Agua Fresca Juice Shop': 'san diego', 'weekly_sales_total': 965042, 'week': 'april-29-2024'}, {'Agua Fresca Juice Shop': 'new york city', 'weekly_sales_total': 494815, 'week': 'april-29-2024'}, {'Agua Fresca Juice Shop': 'leaf city', 'weekly_sales_total': 324152, 'week': 'april-29-2024'}, {'Agua Fresca Juice Shop': 'happy city', 'weekly_sales_total': 134074, 'week': 'december-09-2024'}, {'Agua Fresca Juice Shop': 'marble city', 'weekly_sales_total': 945383, 'week': 'december-09-2024'}, {'Agua Fresca Juice Shop': 'bubble city', 'weekly_sales_total': 971711, 'week': 'december-09-2024'}, {'Agua Fresca Juice Shop': 'tustin', 'weekly_sales_total': 737223, 'week': 'december-09-2024'}, {'Agua Fresca Juice Shop': 'anaheim', 'weekly_sales_total': 668060, 'week': 'december-09-2024'}, {'Agua Fresca Juice Shop': 'san diego', 'weekly_sales_total': 200806, 'week': 'december-09-2024'}, {'Agua Fresca Juice Shop': 'new york city', 'weekly_sales_total': 271964, 'week': 'december-09-2024'}, {'Agua Fresca Juice Shop': 'leaf city', 'weekly_sales_total': 392614, 'week': 'december-09-2024'}, {'Agua Fresca Juice Shop': 'happy city', 'weekly_sales_total': 196835, 'week': 'june-24-2024'}, {'Agua Fresca Juice Shop': 'marble city', 'weekly_sales_total': 936703, 'week': 'june-24-2024'}, {'Agua Fresca Juice Shop': 'bubble city', 'weekly_sales_total': 491757, 'week': 'june-24-2024'}, {'Agua Fresca Juice Shop': 'tustin', 'weekly_sales_total': 421353, 'week': 'june-24-2024'}, {'Agua Fresca Juice Shop': 'anaheim', 'weekly_sales_total': 502716, 'week': 'june-24-2024'}, {'Agua Fresca Juice Shop': 'san diego', 'weekly_sales_total': 738569, 'week': 'june-24-2024'}, {'Agua Fresca Juice Shop': 'new york city', 'weekly_sales_total': 954185, 'week': 'june-24-2024'}, {'Agua Fresca Juice Shop': 'leaf city', 'weekly_sales_total': 743762, 'week': 'june-24-2024'}, {'Agua Fresca Juice Shop': 'happy city', 'weekly_sales_total': 888610, 'week': 'july-01-2024'}, {'Agua Fresca Juice Shop': 'marble city', 'weekly_sales_total': 572605, 'week': 'july-01-2024'}, {'Agua Fresca Juice Shop': 'bubble city', 'weekly_sales_total': 619070, 'week': 'july-01-2024'}, {'Agua Fresca Juice Shop': 'tustin', 'weekly_sales_total': 613105, 'week': 'july-01-2024'}, {'Agua Fresca Juice Shop': 'anaheim', 'weekly_sales_total': 874275, 'week': 'july-01-2024'}, {'Agua Fresca Juice Shop': 'san diego', 'weekly_sales_total': 758185, 'week': 'july-01-2024'}, {'Agua Fresca Juice Shop': 'new york city', 'weekly_sales_total': 157787, 'week': 'july-01-2024'}, {'Agua Fresca Juice Shop': 'leaf city', 'weekly_sales_total': 284635, 'week': 'july-01-2024'}, {'Agua Fresca Juice Shop': 'happy city', 'weekly_sales_total': 409789, 'week': 'september-23-2024'}, {'Agua Fresca Juice Shop': 'marble city', 'weekly_sales_total': 277199, 'week': 'september-23-2024'}, {'Agua Fresca Juice Shop': 'bubble city', 'weekly_sales_total': 228599, 'week': 'september-23-2024'}, {'Agua Fresca Juice Shop': 'tustin', 'weekly_sales_total': 618098, 'week': 'september-23-2024'}, {'Agua Fresca Juice Shop': 'anaheim', 'weekly_sales_total': 996212, 'week': 'september-23-2024'}, {'Agua Fresca Juice Shop': 'san diego', 'weekly_sales_total': 439866, 'week': 'september-23-2024'}, {'Agua Fresca Juice Shop': 'new york city', 'weekly_sales_total': 173908, 'week': 'september-23-2024'}, {'Agua Fresca Juice Shop': 'leaf city', 'weekly_sales_total': 676138, 'week': 'september-23-2024'}, {'Agua Fresca Juice Shop': 'happy city', 'weekly_sales_total': 271844, 'week': 'october-07-2024'}, {'Agua Fresca Juice Shop': 'marble city', 'weekly_sales_total': 533275, 'week': 'october-07-2024'}, {'Agua Fresca Juice Shop': 'bubble city', 'weekly_sales_total': 777334, 'week': 'october-07-2024'}, {'Agua Fresca Juice Shop': 'tustin', 'weekly_sales_total': 571824, 'week': 'october-07-2024'}, {'Agua Fresca Juice Shop': 'anaheim', 'weekly_sales_total': 195848, 'week': 'october-07-2024'}, {'Agua Fresca Juice Shop': 'san diego', 'weekly_sales_total': 270627, 'week': 'october-07-2024'}, {'Agua Fresca Juice Shop': 'new york city', 'weekly_sales_total': 667770, 'week': 'october-07-2024'}, {'Agua Fresca Juice Shop': 'leaf city', 'weekly_sales_total': 337553, 'week': 'october-07-2024'}, {'Agua Fresca Juice Shop': 'happy city', 'weekly_sales_total': 938142, 'week': 'may-27-2024'}, {'Agua Fresca Juice Shop': 'marble city', 'weekly_sales_total': 864728, 'week': 'may-27-2024'}, {'Agua Fresca Juice Shop': 'bubble city', 'weekly_sales_total': 392017, 'week': 'may-27-2024'}, {'Agua Fresca Juice Shop': 'tustin', 'weekly_sales_total': 245002, 'week': 'may-27-2024'}, {'Agua Fresca Juice Shop': 'anaheim', 'weekly_sales_total': 679551, 'week': 'may-27-2024'}, {'Agua Fresca Juice Shop': 'san diego', 'weekly_sales_total': 781790, 'week': 'may-27-2024'}, {'Agua Fresca Juice Shop': 'new york city', 'weekly_sales_total': 658503, 'week': 'may-27-2024'}, {'Agua Fresca Juice Shop': 'leaf city', 'weekly_sales_total': 613882, 'week': 'may-27-2024'}, {'Agua Fresca Juice Shop': 'happy city', 'weekly_sales_total': 135425, 'week': 'august-19-2024'}, {'Agua Fresca Juice Shop': 'marble city', 'weekly_sales_total': 111287, 'week': 'august-19-2024'}, {'Agua Fresca Juice Shop': 'bubble city', 'weekly_sales_total': 504149, 'week': 'august-19-2024'}, {'Agua Fresca Juice Shop': 'tustin', 'weekly_sales_total': 161803, 'week': 'august-19-2024'}, {'Agua Fresca Juice Shop': 'anaheim', 'weekly_sales_total': 416620, 'week': 'august-19-2024'}, {'Agua Fresca Juice Shop': 'san diego', 'weekly_sales_total': 653812, 'week': 'august-19-2024'}, {'Agua Fresca Juice Shop': 'new york city', 'weekly_sales_total': 638854, 'week': 'august-19-2024'}, {'Agua Fresca Juice Shop': 'leaf city', 'weekly_sales_total': 305732, 'week': 'august-19-2024'}, {'Agua Fresca Juice Shop': 'happy city', 'weekly_sales_total': 717172, 'week': 'january-22-2024'}, {'Agua Fresca Juice Shop': 'marble city', 'weekly_sales_total': 118565, 'week': 'january-22-2024'}, {'Agua Fresca Juice Shop': 'bubble city', 'weekly_sales_total': 537154, 'week': 'january-22-2024'}, {'Agua Fresca Juice Shop': 'tustin', 'weekly_sales_total': 871207, 'week': 'january-22-2024'}, {'Agua Fresca Juice Shop': 'anaheim', 'weekly_sales_total': 300760, 'week': 'january-22-2024'}, {'Agua Fresca Juice Shop': 'san diego', 'weekly_sales_total': 835776, 'week': 'january-22-2024'}, {'Agua Fresca Juice Shop': 'new york city', 'weekly_sales_total': 587756, 'week': 'january-22-2024'}, {'Agua Fresca Juice Shop': 'leaf city', 'weekly_sales_total': 126222, 'week': 'january-22-2024'}, {'Agua Fresca Juice Shop': 'happy city', 'weekly_sales_total': 101952, 'week': 'august-26-2024'}, {'Agua Fresca Juice Shop': 'marble city', 'weekly_sales_total': 249801, 'week': 'august-26-2024'}, {'Agua Fresca Juice Shop': 'bubble city', 'weekly_sales_total': 934862, 'week': 'august-26-2024'}, {'Agua Fresca Juice Shop': 'tustin', 'weekly_sales_total': 247662, 'week': 'august-26-2024'}, {'Agua Fresca Juice Shop': 'anaheim', 'weekly_sales_total': 114356, 'week': 'august-26-2024'}, {'Agua Fresca Juice Shop': 'san diego', 'weekly_sales_total': 848826, 'week': 'august-26-2024'}, {'Agua Fresca Juice Shop': 'new york city', 'weekly_sales_total': 247662, 'week': 'august-26-2024'}, {'Agua Fresca Juice Shop': 'leaf city', 'weekly_sales_total': 595549, 'week': 'august-26-2024'}, {'Agua Fresca Juice Shop': 'happy city', 'weekly_sales_total': 587267, 'week': 'november-18-2024'}, {'Agua Fresca Juice Shop': 'marble city', 'weekly_sales_total': 326159, 'week': 'november-18-2024'}, {'Agua Fresca Juice Shop': 'bubble city', 'weekly_sales_total': 324634, 'week': 'november-18-2024'}, {'Agua Fresca Juice Shop': 'tustin', 'weekly_sales_total': 795611, 'week': 'november-18-2024'}, {'Agua Fresca Juice Shop': 'anaheim', 'weekly_sales_total': 166717, 'week': 'november-18-2024'}, {'Agua Fresca Juice Shop': 'san diego', 'weekly_sales_total': 822567, 'week': 'november-18-2024'}, {'Agua Fresca Juice Shop': 'new york city', 'weekly_sales_total': 719607, 'week': 'november-18-2024'}, {'Agua Fresca Juice Shop': 'leaf city', 'weekly_sales_total': 622570, 'week': 'november-18-2024'}, {'Agua Fresca Juice Shop': 'happy city', 'weekly_sales_total': 815024, 'week': 'july-22-2024'}, {'Agua Fresca Juice Shop': 'marble city', 'weekly_sales_total': 114142, 'week': 'july-22-2024'}, {'Agua Fresca Juice Shop': 'bubble city', 'weekly_sales_total': 566847, 'week': 'july-22-2024'}, {'Agua Fresca Juice Shop': 'tustin', 'weekly_sales_total': 341600, 'week': 'july-22-2024'}, {'Agua Fresca Juice Shop': 'anaheim', 'weekly_sales_total': 488152, 'week': 'july-22-2024'}, {'Agua Fresca Juice Shop': 'san diego', 'weekly_sales_total': 264764, 'week': 'july-22-2024'}, {'Agua Fresca Juice Shop': 'new york city', 'weekly_sales_total': 709983, 'week': 'july-22-2024'}, {'Agua Fresca Juice Shop': 'leaf city', 'weekly_sales_total': 118111, 'week': 'july-22-2024'}, {'Agua Fresca Juice Shop': 'happy city', 'weekly_sales_total': 816919, 'week': 'june-10-2024'}, {'Agua Fresca Juice Shop': 'marble city', 'weekly_sales_total': 106498, 'week': 'june-10-2024'}, {'Agua Fresca Juice Shop': 'bubble city', 'weekly_sales_total': 184239, 'week': 'june-10-2024'}, {'Agua Fresca Juice Shop': 'tustin', 'weekly_sales_total': 281268, 'week': 'june-10-2024'}, {'Agua Fresca Juice Shop': 'anaheim', 'weekly_sales_total': 712388, 'week': 'june-10-2024'}, {'Agua Fresca Juice Shop': 'san diego', 'weekly_sales_total': 996396, 'week': 'june-10-2024'}, {'Agua Fresca Juice Shop': 'new york city', 'weekly_sales_total': 954374, 'week': 'june-10-2024'}, {'Agua Fresca Juice Shop': 'leaf city', 'weekly_sales_total': 964335, 'week': 'june-10-2024'}, {'Agua Fresca Juice Shop': 'happy city', 'weekly_sales_total': 259878, 'week': 'august-05-2024'}, {'Agua Fresca Juice Shop': 'marble city', 'weekly_sales_total': 717923, 'week': 'august-05-2024'}, {'Agua Fresca Juice Shop': 'bubble city', 'weekly_sales_total': 140498, 'week': 'august-05-2024'}, {'Agua Fresca Juice Shop': 'tustin', 'weekly_sales_total': 728345, 'week': 'august-05-2024'}, {'Agua Fresca Juice Shop': 'anaheim', 'weekly_sales_total': 922515, 'week': 'august-05-2024'}, {'Agua Fresca Juice Shop': 'san diego', 'weekly_sales_total': 428576, 'week': 'august-05-2024'}, {'Agua Fresca Juice Shop': 'new york city', 'weekly_sales_total': 909377, 'week': 'august-05-2024'}, {'Agua Fresca Juice Shop': 'leaf city', 'weekly_sales_total': 834456, 'week': 'august-05-2024'}, {'Agua Fresca Juice Shop': 'happy city', 'weekly_sales_total': 106733, 'week': 'april-15-2024'}, {'Agua Fresca Juice Shop': 'marble city', 'weekly_sales_total': 495882, 'week': 'april-15-2024'}, {'Agua Fresca Juice Shop': 'bubble city', 'weekly_sales_total': 191257, 'week': 'april-15-2024'}, {'Agua Fresca Juice Shop': 'tustin', 'weekly_sales_total': 477641, 'week': 'april-15-2024'}, {'Agua Fresca Juice Shop': 'anaheim', 'weekly_sales_total': 725158, 'week': 'april-15-2024'}, {'Agua Fresca Juice Shop': 'san diego', 'weekly_sales_total': 348582, 'week': 'april-15-2024'}, {'Agua Fresca Juice Shop': 'new york city', 'weekly_sales_total': 963486, 'week': 'april-15-2024'}, {'Agua Fresca Juice Shop': 'leaf city', 'weekly_sales_total': 787076, 'week': 'april-15-2024'}, {'Agua Fresca Juice Shop': 'happy city', 'weekly_sales_total': 530072, 'week': 'march-18-2024'}, {'Agua Fresca Juice Shop': 'marble city', 'weekly_sales_total': 916395, 'week': 'march-18-2024'}, {'Agua Fresca Juice Shop': 'bubble city', 'weekly_sales_total': 820974, 'week': 'march-18-2024'}, {'Agua Fresca Juice Shop': 'tustin', 'weekly_sales_total': 505402, 'week': 'march-18-2024'}, {'Agua Fresca Juice Shop': 'anaheim', 'weekly_sales_total': 195236, 'week': 'march-18-2024'}, {'Agua Fresca Juice Shop': 'san diego', 'weekly_sales_total': 673170, 'week': 'march-18-2024'}, {'Agua Fresca Juice Shop': 'new york city', 'weekly_sales_total': 469547, 'week': 'march-18-2024'}, {'Agua Fresca Juice Shop': 'leaf city', 'weekly_sales_total': 768670, 'week': 'march-18-2024'}, {'Agua Fresca Juice Shop': 'happy city', 'weekly_sales_total': 278113, 'week': 'september-16-2024'}, {'Agua Fresca Juice Shop': 'marble city', 'weekly_sales_total': 416422, 'week': 'september-16-2024'}, {'Agua Fresca Juice Shop': 'bubble city', 'weekly_sales_total': 315997, 'week': 'september-16-2024'}, {'Agua Fresca Juice Shop': 'tustin', 'weekly_sales_total': 649677, 'week': 'september-16-2024'}, {'Agua Fresca Juice Shop': 'anaheim', 'weekly_sales_total': 740713, 'week': 'september-16-2024'}, {'Agua Fresca Juice Shop': 'san diego', 'weekly_sales_total': 736411, 'week': 'september-16-2024'}, {'Agua Fresca Juice Shop': 'new york city', 'weekly_sales_total': 448353, 'week': 'september-16-2024'}, {'Agua Fresca Juice Shop': 'leaf city', 'weekly_sales_total': 490556, 'week': 'september-16-2024'}, {'Agua Fresca Juice Shop': 'happy city', 'weekly_sales_total': 420477, 'week': 'july-08-2024'}, {'Agua Fresca Juice Shop': 'marble city', 'weekly_sales_total': 930226, 'week': 'july-08-2024'}, {'Agua Fresca Juice Shop': 'bubble city', 'weekly_sales_total': 464792, 'week': 'july-08-2024'}, {'Agua Fresca Juice Shop': 'tustin', 'weekly_sales_total': 879841, 'week': 'july-08-2024'}, {'Agua Fresca Juice Shop': 'anaheim', 'weekly_sales_total': 979988, 'week': 'july-08-2024'}, {'Agua Fresca Juice Shop': 'san diego', 'weekly_sales_total': 494795, 'week': 'july-08-2024'}, {'Agua Fresca Juice Shop': 'new york city', 'weekly_sales_total': 638084, 'week': 'july-08-2024'}, {'Agua Fresca Juice Shop': 'leaf city', 'weekly_sales_total': 674407, 'week': 'july-08-2024'}, {'Agua Fresca Juice Shop': 'happy city', 'weekly_sales_total': 606484, 'week': 'april-01-2024'}, {'Agua Fresca Juice Shop': 'marble city', 'weekly_sales_total': 767842, 'week': 'april-01-2024'}, {'Agua Fresca Juice Shop': 'bubble city', 'weekly_sales_total': 778623, 'week': 'april-01-2024'}, {'Agua Fresca Juice Shop': 'tustin', 'weekly_sales_total': 495295, 'week': 'april-01-2024'}, {'Agua Fresca Juice Shop': 'anaheim', 'weekly_sales_total': 389295, 'week': 'april-01-2024'}, {'Agua Fresca Juice Shop': 'san diego', 'weekly_sales_total': 725672, 'week': 'april-01-2024'}, {'Agua Fresca Juice Shop': 'new york city', 'weekly_sales_total': 526066, 'week': 'april-01-2024'}, {'Agua Fresca Juice Shop': 'leaf city', 'weekly_sales_total': 449200, 'week': 'april-01-2024'}, {'Agua Fresca Juice Shop': 'happy city', 'weekly_sales_total': 435645, 'week': 'weekly_sales'}, {'Agua Fresca Juice Shop': 'marble city', 'weekly_sales_total': 408614, 'week': 'weekly_sales'}, {'Agua Fresca Juice Shop': 'bubble city', 'weekly_sales_total': 629701, 'week': 'weekly_sales'}, {'Agua Fresca Juice Shop': 'tustin', 'weekly_sales_total': 763263, 'week': 'weekly_sales'}, {'Agua Fresca Juice Shop': 'anaheim', 'weekly_sales_total': 677095, 'week': 'weekly_sales'}, {'Agua Fresca Juice Shop': 'san diego', 'weekly_sales_total': 770484, 'week': 'weekly_sales'}, {'Agua Fresca Juice Shop': 'new york city', 'weekly_sales_total': 575968, 'week': 'weekly_sales'}, {'Agua Fresca Juice Shop': 'leaf city', 'weekly_sales_total': 480703, 'week': 'weekly_sales'}, {'Agua Fresca Juice Shop': 'happy city', 'weekly_sales_total': 487508, 'week': 'february-12-2024'}, {'Agua Fresca Juice Shop': 'marble city', 'weekly_sales_total': 519473, 'week': 'february-12-2024'}, {'Agua Fresca Juice Shop': 'bubble city', 'weekly_sales_total': 317114, 'week': 'february-12-2024'}, {'Agua Fresca Juice Shop': 'tustin', 'weekly_sales_total': 374009, 'week': 'february-12-2024'}, {'Agua Fresca Juice Shop': 'anaheim', 'weekly_sales_total': 248281, 'week': 'february-12-2024'}, {'Agua Fresca Juice Shop': 'san diego', 'weekly_sales_total': 557798, 'week': 'february-12-2024'}, {'Agua Fresca Juice Shop': 'new york city', 'weekly_sales_total': 394545, 'week': 'february-12-2024'}, {'Agua Fresca Juice Shop': 'leaf city', 'weekly_sales_total': 648669, 'week': 'february-12-2024'}, {'Agua Fresca Juice Shop': 'happy city', 'weekly_sales_total': 826785, 'week': 'april-22-2024'}, {'Agua Fresca Juice Shop': 'marble city', 'weekly_sales_total': 412606, 'week': 'april-22-2024'}, {'Agua Fresca Juice Shop': 'bubble city', 'weekly_sales_total': 846558, 'week': 'april-22-2024'}, {'Agua Fresca Juice Shop': 'tustin', 'weekly_sales_total': 121780, 'week': 'april-22-2024'}, {'Agua Fresca Juice Shop': 'anaheim', 'weekly_sales_total': 739243, 'week': 'april-22-2024'}, {'Agua Fresca Juice Shop': 'san diego', 'weekly_sales_total': 752059, 'week': 'april-22-2024'}, {'Agua Fresca Juice Shop': 'new york city', 'weekly_sales_total': 479904, 'week': 'april-22-2024'}, {'Agua Fresca Juice Shop': 'leaf city', 'weekly_sales_total': 486723, 'week': 'april-22-2024'}, {'Agua Fresca Juice Shop': 'happy city', 'weekly_sales_total': 458249, 'week': 'june-03-2024'}, {'Agua Fresca Juice Shop': 'marble city', 'weekly_sales_total': 966879, 'week': 'june-03-2024'}, {'Agua Fresca Juice Shop': 'bubble city', 'weekly_sales_total': 160767, 'week': 'june-03-2024'}, {'Agua Fresca Juice Shop': 'tustin', 'weekly_sales_total': 708700, 'week': 'june-03-2024'}, {'Agua Fresca Juice Shop': 'anaheim', 'weekly_sales_total': 483842, 'week': 'june-03-2024'}, {'Agua Fresca Juice Shop': 'san diego', 'weekly_sales_total': 988628, 'week': 'june-03-2024'}, {'Agua Fresca Juice Shop': 'new york city', 'weekly_sales_total': 215129, 'week': 'june-03-2024'}, {'Agua Fresca Juice Shop': 'leaf city', 'weekly_sales_total': 749866, 'week': 'june-03-2024'}, {'Agua Fresca Juice Shop': 'happy city', 'weekly_sales_total': 916162, 'week': 'may-13-2024'}, {'Agua Fresca Juice Shop': 'marble city', 'weekly_sales_total': 381756, 'week': 'may-13-2024'}, {'Agua Fresca Juice Shop': 'bubble city', 'weekly_sales_total': 174496, 'week': 'may-13-2024'}, {'Agua Fresca Juice Shop': 'tustin', 'weekly_sales_total': 455225, 'week': 'may-13-2024'}, {'Agua Fresca Juice Shop': 'anaheim', 'weekly_sales_total': 876269, 'week': 'may-13-2024'}, {'Agua Fresca Juice Shop': 'san diego', 'weekly_sales_total': 652276, 'week': 'may-13-2024'}, {'Agua Fresca Juice Shop': 'new york city', 'weekly_sales_total': 714232, 'week': 'may-13-2024'}, {'Agua Fresca Juice Shop': 'leaf city', 'weekly_sales_total': 396060, 'week': 'may-13-2024'}, {'Agua Fresca Juice Shop': 'happy city', 'weekly_sales_total': 402251, 'week': 'june-17-2024'}, {'Agua Fresca Juice Shop': 'marble city', 'weekly_sales_total': 518505, 'week': 'june-17-2024'}, {'Agua Fresca Juice Shop': 'bubble city', 'weekly_sales_total': 349374, 'week': 'june-17-2024'}, {'Agua Fresca Juice Shop': 'tustin', 'weekly_sales_total': 409264, 'week': 'june-17-2024'}, {'Agua Fresca Juice Shop': 'anaheim', 'weekly_sales_total': 218086, 'week': 'june-17-2024'}, {'Agua Fresca Juice Shop': 'san diego', 'weekly_sales_total': 298685, 'week': 'june-17-2024'}, {'Agua Fresca Juice Shop': 'new york city', 'weekly_sales_total': 128874, 'week': 'june-17-2024'}, {'Agua Fresca Juice Shop': 'leaf city', 'weekly_sales_total': 256864, 'week': 'june-17-2024'}, {'Agua Fresca Juice Shop': 'happy city', 'weekly_sales_total': 427485, 'week': 'may-20-2024'}, {'Agua Fresca Juice Shop': 'marble city', 'weekly_sales_total': 122127, 'week': 'may-20-2024'}, {'Agua Fresca Juice Shop': 'bubble city', 'weekly_sales_total': 585417, 'week': 'may-20-2024'}, {'Agua Fresca Juice Shop': 'tustin', 'weekly_sales_total': 800039, 'week': 'may-20-2024'}, {'Agua Fresca Juice Shop': 'anaheim', 'weekly_sales_total': 154950, 'week': 'may-20-2024'}, {'Agua Fresca Juice Shop': 'san diego', 'weekly_sales_total': 985812, 'week': 'may-20-2024'}, {'Agua Fresca Juice Shop': 'new york city', 'weekly_sales_total': 840183, 'week': 'may-20-2024'}, {'Agua Fresca Juice Shop': 'leaf city', 'weekly_sales_total': 610824, 'week': 'may-20-2024'}, {'Agua Fresca Juice Shop': 'happy city', 'weekly_sales_total': 234477, 'week': 'february-05-2024'}, {'Agua Fresca Juice Shop': 'marble city', 'weekly_sales_total': 798666, 'week': 'february-05-2024'}, {'Agua Fresca Juice Shop': 'bubble city', 'weekly_sales_total': 761476, 'week': 'february-05-2024'}, {'Agua Fresca Juice Shop': 'tustin', 'weekly_sales_total': 376146, 'week': 'february-05-2024'}, {'Agua Fresca Juice Shop': 'anaheim', 'weekly_sales_total': 872735, 'week': 'february-05-2024'}, {'Agua Fresca Juice Shop': 'san diego', 'weekly_sales_total': 772605, 'week': 'february-05-2024'}, {'Agua Fresca Juice Shop': 'new york city', 'weekly_sales_total': 852874, 'week': 'february-05-2024'}, {'Agua Fresca Juice Shop': 'leaf city', 'weekly_sales_total': 526178, 'week': 'february-05-2024'}, {'Agua Fresca Juice Shop': 'happy city', 'weekly_sales_total': 830065, 'week': 'may-06-2024'}, {'Agua Fresca Juice Shop': 'marble city', 'weekly_sales_total': 987809, 'week': 'may-06-2024'}, {'Agua Fresca Juice Shop': 'bubble city', 'weekly_sales_total': 309763, 'week': 'may-06-2024'}, {'Agua Fresca Juice Shop': 'tustin', 'weekly_sales_total': 911198, 'week': 'may-06-2024'}, {'Agua Fresca Juice Shop': 'anaheim', 'weekly_sales_total': 116745, 'week': 'may-06-2024'}, {'Agua Fresca Juice Shop': 'san diego', 'weekly_sales_total': 240392, 'week': 'may-06-2024'}, {'Agua Fresca Juice Shop': 'new york city', 'weekly_sales_total': 697986, 'week': 'may-06-2024'}, {'Agua Fresca Juice Shop': 'leaf city', 'weekly_sales_total': 859585, 'week': 'may-06-2024'}, {'Agua Fresca Juice Shop': 'happy city', 'weekly_sales_total': 621640, 'week': 'july-29-2024'}, {'Agua Fresca Juice Shop': 'marble city', 'weekly_sales_total': 778773, 'week': 'july-29-2024'}, {'Agua Fresca Juice Shop': 'bubble city', 'weekly_sales_total': 485558, 'week': 'july-29-2024'}, {'Agua Fresca Juice Shop': 'tustin', 'weekly_sales_total': 102308, 'week': 'july-29-2024'}, {'Agua Fresca Juice Shop': 'anaheim', 'weekly_sales_total': 302212, 'week': 'july-29-2024'}, {'Agua Fresca Juice Shop': 'san diego', 'weekly_sales_total': 881745, 'week': 'july-29-2024'}, {'Agua Fresca Juice Shop': 'new york city', 'weekly_sales_total': 401095, 'week': 'july-29-2024'}, {'Agua Fresca Juice Shop': 'leaf city', 'weekly_sales_total': 514445, 'week': 'july-29-2024'}, {'Agua Fresca Juice Shop': 'happy city', 'weekly_sales_total': 534584, 'week': 'december-16-2024'}, {'Agua Fresca Juice Shop': 'marble city', 'weekly_sales_total': 883463, 'week': 'december-16-2024'}, {'Agua Fresca Juice Shop': 'bubble city', 'weekly_sales_total': 849630, 'week': 'december-16-2024'}, {'Agua Fresca Juice Shop': 'tustin', 'weekly_sales_total': 189654, 'week': 'december-16-2024'}, {'Agua Fresca Juice Shop': 'anaheim', 'weekly_sales_total': 648886, 'week': 'december-16-2024'}, {'Agua Fresca Juice Shop': 'san diego', 'weekly_sales_total': 594039, 'week': 'december-16-2024'}, {'Agua Fresca Juice Shop': 'new york city', 'weekly_sales_total': 408652, 'week': 'december-16-2024'}, {'Agua Fresca Juice Shop': 'leaf city', 'weekly_sales_total': 279470, 'week': 'december-16-2024'}, {'Agua Fresca Juice Shop': 'happy city', 'weekly_sales_total': 766767, 'week': 'september-02-2024'}, {'Agua Fresca Juice Shop': 'marble city', 'weekly_sales_total': 997364, 'week': 'september-02-2024'}, {'Agua Fresca Juice Shop': 'bubble city', 'weekly_sales_total': 254533, 'week': 'september-02-2024'}, {'Agua Fresca Juice Shop': 'tustin', 'weekly_sales_total': 436871, 'week': 'september-02-2024'}, {'Agua Fresca Juice Shop': 'anaheim', 'weekly_sales_total': 770084, 'week': 'september-02-2024'}, {'Agua Fresca Juice Shop': 'san diego', 'weekly_sales_total': 289627, 'week': 'september-02-2024'}, {'Agua Fresca Juice Shop': 'new york city', 'weekly_sales_total': 994535, 'week': 'september-02-2024'}, {'Agua Fresca Juice Shop': 'leaf city', 'weekly_sales_total': 854249, 'week': 'september-02-2024'}, {'Agua Fresca Juice Shop': 'happy city', 'weekly_sales_total': 967516, 'week': 'march-25-2024'}, {'Agua Fresca Juice Shop': 'marble city', 'weekly_sales_total': 596744, 'week': 'march-25-2024'}, {'Agua Fresca Juice Shop': 'bubble city', 'weekly_sales_total': 272538, 'week': 'march-25-2024'}, {'Agua Fresca Juice Shop': 'tustin', 'weekly_sales_total': 616109, 'week': 'march-25-2024'}, {'Agua Fresca Juice Shop': 'anaheim', 'weekly_sales_total': 341391, 'week': 'march-25-2024'}, {'Agua Fresca Juice Shop': 'san diego', 'weekly_sales_total': 628369, 'week': 'march-25-2024'}, {'Agua Fresca Juice Shop': 'new york city', 'weekly_sales_total': 996284, 'week': 'march-25-2024'}, {'Agua Fresca Juice Shop': 'leaf city', 'weekly_sales_total': 243754, 'week': 'march-25-2024'}, {'Agua Fresca Juice Shop': 'happy city', 'weekly_sales_total': 198657, 'week': 'december-02-2024'}, {'Agua Fresca Juice Shop': 'marble city', 'weekly_sales_total': 421337, 'week': 'december-02-2024'}, {'Agua Fresca Juice Shop': 'bubble city', 'weekly_sales_total': 280467, 'week': 'december-02-2024'}, {'Agua Fresca Juice Shop': 'tustin', 'weekly_sales_total': 201880, 'week': 'december-02-2024'}, {'Agua Fresca Juice Shop': 'anaheim', 'weekly_sales_total': 929299, 'week': 'december-02-2024'}, {'Agua Fresca Juice Shop': 'san diego', 'weekly_sales_total': 804682, 'week': 'december-02-2024'}, {'Agua Fresca Juice Shop': 'new york city', 'weekly_sales_total': 325068, 'week': 'december-02-2024'}, {'Agua Fresca Juice Shop': 'leaf city', 'weekly_sales_total': 917834, 'week': 'december-02-2024'}, {'Agua Fresca Juice Shop': 'happy city', 'weekly_sales_total': 855291, 'week': 'december-30-2024'}, {'Agua Fresca Juice Shop': 'marble city', 'weekly_sales_total': 755571, 'week': 'december-30-2024'}, {'Agua Fresca Juice Shop': 'bubble city', 'weekly_sales_total': 524403, 'week': 'december-30-2024'}, {'Agua Fresca Juice Shop': 'tustin', 'weekly_sales_total': 557174, 'week': 'december-30-2024'}, {'Agua Fresca Juice Shop': 'anaheim', 'weekly_sales_total': 717372, 'week': 'december-30-2024'}, {'Agua Fresca Juice Shop': 'san diego', 'weekly_sales_total': 395238, 'week': 'december-30-2024'}, {'Agua Fresca Juice Shop': 'new york city', 'weekly_sales_total': 416758, 'week': 'december-30-2024'}, {'Agua Fresca Juice Shop': 'leaf city', 'weekly_sales_total': 172032, 'week': 'december-30-2024'}, {'Agua Fresca Juice Shop': 'happy city', 'weekly_sales_total': 922509, 'week': 'july-15-2024'}, {'Agua Fresca Juice Shop': 'marble city', 'weekly_sales_total': 994264, 'week': 'july-15-2024'}, {'Agua Fresca Juice Shop': 'bubble city', 'weekly_sales_total': 378969, 'week': 'july-15-2024'}, {'Agua Fresca Juice Shop': 'tustin', 'weekly_sales_total': 615026, 'week': 'july-15-2024'}, {'Agua Fresca Juice Shop': 'anaheim', 'weekly_sales_total': 686528, 'week': 'july-15-2024'}, {'Agua Fresca Juice Shop': 'san diego', 'weekly_sales_total': 800452, 'week': 'july-15-2024'}, {'Agua Fresca Juice Shop': 'new york city', 'weekly_sales_total': 387213, 'week': 'july-15-2024'}, {'Agua Fresca Juice Shop': 'leaf city', 'weekly_sales_total': 333852, 'week': 'july-15-2024'}, {'Agua Fresca Juice Shop': 'happy city', 'weekly_sales_total': 498417, 'week': 'january-01-2024'}, {'Agua Fresca Juice Shop': 'marble city', 'weekly_sales_total': 542975, 'week': 'january-01-2024'}, {'Agua Fresca Juice Shop': 'bubble city', 'weekly_sales_total': 777258, 'week': 'january-01-2024'}, {'Agua Fresca Juice Shop': 'tustin', 'weekly_sales_total': 181331, 'week': 'january-01-2024'}, {'Agua Fresca Juice Shop': 'anaheim', 'weekly_sales_total': 410552, 'week': 'january-01-2024'}, {'Agua Fresca Juice Shop': 'san diego', 'weekly_sales_total': 207666, 'week': 'january-01-2024'}, {'Agua Fresca Juice Shop': 'new york city', 'weekly_sales_total': 241822, 'week': 'january-01-2024'}, {'Agua Fresca Juice Shop': 'leaf city', 'weekly_sales_total': 562475, 'week': 'january-01-2024'}, {'Agua Fresca Juice Shop': 'happy city', 'weekly_sales_total': 438197, 'week': 'october-14-2024'}, {'Agua Fresca Juice Shop': 'marble city', 'weekly_sales_total': 289469, 'week': 'october-14-2024'}, {'Agua Fresca Juice Shop': 'bubble city', 'weekly_sales_total': 511929, 'week': 'october-14-2024'}, {'Agua Fresca Juice Shop': 'tustin', 'weekly_sales_total': 887661, 'week': 'october-14-2024'}, {'Agua Fresca Juice Shop': 'anaheim', 'weekly_sales_total': 584069, 'week': 'october-14-2024'}, {'Agua Fresca Juice Shop': 'san diego', 'weekly_sales_total': 468634, 'week': 'october-14-2024'}, {'Agua Fresca Juice Shop': 'new york city', 'weekly_sales_total': 797853, 'week': 'october-14-2024'}, {'Agua Fresca Juice Shop': 'leaf city', 'weekly_sales_total': 347932, 'week': 'october-14-2024'}, {'Agua Fresca Juice Shop': 'happy city', 'weekly_sales_total': 940269, 'week': 'december-23-2024'}, {'Agua Fresca Juice Shop': 'marble city', 'weekly_sales_total': 175590, 'week': 'december-23-2024'}, {'Agua Fresca Juice Shop': 'bubble city', 'weekly_sales_total': 909604, 'week': 'december-23-2024'}, {'Agua Fresca Juice Shop': 'tustin', 'weekly_sales_total': 123320, 'week': 'december-23-2024'}, {'Agua Fresca Juice Shop': 'anaheim', 'weekly_sales_total': 419933, 'week': 'december-23-2024'}, {'Agua Fresca Juice Shop': 'san diego', 'weekly_sales_total': 261549, 'week': 'december-23-2024'}, {'Agua Fresca Juice Shop': 'new york city', 'weekly_sales_total': 486745, 'week': 'december-23-2024'}, {'Agua Fresca Juice Shop': 'leaf city', 'weekly_sales_total': 175028, 'week': 'december-23-2024'}, {'Agua Fresca Juice Shop': 'happy city', 'weekly_sales_total': 502538, 'week': 'september-30-2024'}, {'Agua Fresca Juice Shop': 'marble city', 'weekly_sales_total': 401258, 'week': 'september-30-2024'}, {'Agua Fresca Juice Shop': 'bubble city', 'weekly_sales_total': 217188, 'week': 'september-30-2024'}, {'Agua Fresca Juice Shop': 'tustin', 'weekly_sales_total': 912620, 'week': 'september-30-2024'}, {'Agua Fresca Juice Shop': 'anaheim', 'weekly_sales_total': 197782, 'week': 'september-30-2024'}, {'Agua Fresca Juice Shop': 'san diego', 'weekly_sales_total': 893165, 'week': 'september-30-2024'}, {'Agua Fresca Juice Shop': 'new york city', 'weekly_sales_total': 180756, 'week': 'september-30-2024'}, {'Agua Fresca Juice Shop': 'leaf city', 'weekly_sales_total': 798668, 'week': 'september-30-2024'}, {'Agua Fresca Juice Shop': 'happy city', 'weekly_sales_total': 403871, 'week': 'november-04-2024'}, {'Agua Fresca Juice Shop': 'marble city', 'weekly_sales_total': 730247, 'week': 'november-04-2024'}, {'Agua Fresca Juice Shop': 'bubble city', 'weekly_sales_total': 351398, 'week': 'november-04-2024'}, {'Agua Fresca Juice Shop': 'tustin', 'weekly_sales_total': 958861, 'week': 'november-04-2024'}, {'Agua Fresca Juice Shop': 'anaheim', 'weekly_sales_total': 144290, 'week': 'november-04-2024'}, {'Agua Fresca Juice Shop': 'san diego', 'weekly_sales_total': 500681, 'week': 'november-04-2024'}, {'Agua Fresca Juice Shop': 'new york city', 'weekly_sales_total': 905377, 'week': 'november-04-2024'}, {'Agua Fresca Juice Shop': 'leaf city', 'weekly_sales_total': 299035, 'week': 'november-04-2024'}, {'Agua Fresca Juice Shop': 'happy city', 'weekly_sales_total': 609510, 'week': 'august-12-2024'}, {'Agua Fresca Juice Shop': 'marble city', 'weekly_sales_total': 781772, 'week': 'august-12-2024'}, {'Agua Fresca Juice Shop': 'bubble city', 'weekly_sales_total': 707293, 'week': 'august-12-2024'}, {'Agua Fresca Juice Shop': 'tustin', 'weekly_sales_total': 169254, 'week': 'august-12-2024'}, {'Agua Fresca Juice Shop': 'anaheim', 'weekly_sales_total': 854000, 'week': 'august-12-2024'}, {'Agua Fresca Juice Shop': 'san diego', 'weekly_sales_total': 780289, 'week': 'august-12-2024'}, {'Agua Fresca Juice Shop': 'new york city', 'weekly_sales_total': 691957, 'week': 'august-12-2024'}, {'Agua Fresca Juice Shop': 'leaf city', 'weekly_sales_total': 429969, 'week': 'august-12-2024'}, {'Agua Fresca Juice Shop': 'happy city', 'weekly_sales_total': 600647, 'week': 'january-15-2024'}, {'Agua Fresca Juice Shop': 'marble city', 'weekly_sales_total': 255815, 'week': 'january-15-2024'}, {'Agua Fresca Juice Shop': 'bubble city', 'weekly_sales_total': 770085, 'week': 'january-15-2024'}, {'Agua Fresca Juice Shop': 'tustin', 'weekly_sales_total': 798384, 'week': 'january-15-2024'}, {'Agua Fresca Juice Shop': 'anaheim', 'weekly_sales_total': 118224, 'week': 'january-15-2024'}, {'Agua Fresca Juice Shop': 'san diego', 'weekly_sales_total': 132007, 'week': 'january-15-2024'}, {'Agua Fresca Juice Shop': 'new york city', 'weekly_sales_total': 967462, 'week': 'january-15-2024'}, {'Agua Fresca Juice Shop': 'leaf city', 'weekly_sales_total': 268665, 'week': 'january-15-2024'}, {'Agua Fresca Juice Shop': 'happy city', 'weekly_sales_total': 423501, 'week': 'march-04-2024'}, {'Agua Fresca Juice Shop': 'marble city', 'weekly_sales_total': 103980, 'week': 'march-04-2024'}, {'Agua Fresca Juice Shop': 'bubble city', 'weekly_sales_total': 459415, 'week': 'march-04-2024'}, {'Agua Fresca Juice Shop': 'tustin', 'weekly_sales_total': 526015, 'week': 'march-04-2024'}, {'Agua Fresca Juice Shop': 'anaheim', 'weekly_sales_total': 371195, 'week': 'march-04-2024'}, {'Agua Fresca Juice Shop': 'san diego', 'weekly_sales_total': 188916, 'week': 'march-04-2024'}, {'Agua Fresca Juice Shop': 'new york city', 'weekly_sales_total': 434807, 'week': 'march-04-2024'}, {'Agua Fresca Juice Shop': 'leaf city', 'weekly_sales_total': 422754, 'week': 'march-04-2024'}, {'Agua Fresca Juice Shop': 'happy city', 'weekly_sales_total': 780756, 'week': 'april-08-2024'}, {'Agua Fresca Juice Shop': 'marble city', 'weekly_sales_total': 921119, 'week': 'april-08-2024'}, {'Agua Fresca Juice Shop': 'bubble city', 'weekly_sales_total': 160083, 'week': 'april-08-2024'}, {'Agua Fresca Juice Shop': 'tustin', 'weekly_sales_total': 277618, 'week': 'april-08-2024'}, {'Agua Fresca Juice Shop': 'anaheim', 'weekly_sales_total': 742368, 'week': 'april-08-2024'}, {'Agua Fresca Juice Shop': 'san diego', 'weekly_sales_total': 354802, 'week': 'april-08-2024'}, {'Agua Fresca Juice Shop': 'new york city', 'weekly_sales_total': 861436, 'week': 'april-08-2024'}, {'Agua Fresca Juice Shop': 'leaf city', 'weekly_sales_total': 167643, 'week': 'april-08-2024'}, {'Agua Fresca Juice Shop': 'happy city', 'weekly_sales_total': 727300, 'week': 'february-26-2024'}, {'Agua Fresca Juice Shop': 'marble city', 'weekly_sales_total': 104794, 'week': 'february-26-2024'}, {'Agua Fresca Juice Shop': 'bubble city', 'weekly_sales_total': 118208, 'week': 'february-26-2024'}, {'Agua Fresca Juice Shop': 'tustin', 'weekly_sales_total': 452019, 'week': 'february-26-2024'}, {'Agua Fresca Juice Shop': 'anaheim', 'weekly_sales_total': 412455, 'week': 'february-26-2024'}, {'Agua Fresca Juice Shop': 'san diego', 'weekly_sales_total': 350342, 'week': 'february-26-2024'}, {'Agua Fresca Juice Shop': 'new york city', 'weekly_sales_total': 129099, 'week': 'february-26-2024'}, {'Agua Fresca Juice Shop': 'leaf city', 'weekly_sales_total': 136893, 'week': 'february-26-2024'}]\n"
          ]
        }
      ]
    },
    {
      "cell_type": "code",
      "source": [
        "df = pd.DataFrame(all_stores_all_weekly_sales)\n",
        "\n",
        "print(df)"
      ],
      "metadata": {
        "colab": {
          "base_uri": "https://localhost:8080/"
        },
        "id": "LdIeBXAOfyaU",
        "outputId": "5350e494-9e1c-4631-d8f9-05bb059b4b3b"
      },
      "execution_count": 38,
      "outputs": [
        {
          "output_type": "stream",
          "name": "stdout",
          "text": [
            "    Agua Fresca Juice Shop  weekly_sales_total              week\n",
            "0               happy city              916153  february-19-2024\n",
            "1              marble city              515125  february-19-2024\n",
            "2              bubble city              127326  february-19-2024\n",
            "3                   tustin              821887  february-19-2024\n",
            "4                  anaheim              306787  february-19-2024\n",
            "..                     ...                 ...               ...\n",
            "427                 tustin              452019  february-26-2024\n",
            "428                anaheim              412455  february-26-2024\n",
            "429              san diego              350342  february-26-2024\n",
            "430          new york city              129099  february-26-2024\n",
            "431              leaf city              136893  february-26-2024\n",
            "\n",
            "[432 rows x 3 columns]\n"
          ]
        }
      ]
    },
    {
      "cell_type": "code",
      "source": [
        "import altair as alt\n",
        "\n",
        "width = 600\n",
        "\n",
        "height = 300\n",
        "\n",
        "base = alt.Chart(df, width=width, height=height).mark_line().encode(\n",
        "    x='week:T',\n",
        "    y='weekly_sales_total:Q',\n",
        "    color='Agua Fresca Juice Shop:N',\n",
        "    tooltip=['Agua Fresca Juice Shop:N', 'weekly_sales_total:Q', 'week:T']\n",
        ").interactive()\n",
        "\n",
        "base"
      ],
      "metadata": {
        "colab": {
          "base_uri": "https://localhost:8080/",
          "height": 368
        },
        "id": "7lqSU-EDf9BB",
        "outputId": "84263bfa-08a4-4a72-ce31-9589ac5961c0"
      },
      "execution_count": 39,
      "outputs": [
        {
          "output_type": "execute_result",
          "data": {
            "text/html": [
              "\n",
              "<div id=\"altair-viz-0b2474a3cb2848ed899a44407a516bbb\"></div>\n",
              "<script type=\"text/javascript\">\n",
              "  var VEGA_DEBUG = (typeof VEGA_DEBUG == \"undefined\") ? {} : VEGA_DEBUG;\n",
              "  (function(spec, embedOpt){\n",
              "    let outputDiv = document.currentScript.previousElementSibling;\n",
              "    if (outputDiv.id !== \"altair-viz-0b2474a3cb2848ed899a44407a516bbb\") {\n",
              "      outputDiv = document.getElementById(\"altair-viz-0b2474a3cb2848ed899a44407a516bbb\");\n",
              "    }\n",
              "    const paths = {\n",
              "      \"vega\": \"https://cdn.jsdelivr.net/npm//vega@5?noext\",\n",
              "      \"vega-lib\": \"https://cdn.jsdelivr.net/npm//vega-lib?noext\",\n",
              "      \"vega-lite\": \"https://cdn.jsdelivr.net/npm//vega-lite@4.17.0?noext\",\n",
              "      \"vega-embed\": \"https://cdn.jsdelivr.net/npm//vega-embed@6?noext\",\n",
              "    };\n",
              "\n",
              "    function maybeLoadScript(lib, version) {\n",
              "      var key = `${lib.replace(\"-\", \"\")}_version`;\n",
              "      return (VEGA_DEBUG[key] == version) ?\n",
              "        Promise.resolve(paths[lib]) :\n",
              "        new Promise(function(resolve, reject) {\n",
              "          var s = document.createElement('script');\n",
              "          document.getElementsByTagName(\"head\")[0].appendChild(s);\n",
              "          s.async = true;\n",
              "          s.onload = () => {\n",
              "            VEGA_DEBUG[key] = version;\n",
              "            return resolve(paths[lib]);\n",
              "          };\n",
              "          s.onerror = () => reject(`Error loading script: ${paths[lib]}`);\n",
              "          s.src = paths[lib];\n",
              "        });\n",
              "    }\n",
              "\n",
              "    function showError(err) {\n",
              "      outputDiv.innerHTML = `<div class=\"error\" style=\"color:red;\">${err}</div>`;\n",
              "      throw err;\n",
              "    }\n",
              "\n",
              "    function displayChart(vegaEmbed) {\n",
              "      vegaEmbed(outputDiv, spec, embedOpt)\n",
              "        .catch(err => showError(`Javascript Error: ${err.message}<br>This usually means there's a typo in your chart specification. See the javascript console for the full traceback.`));\n",
              "    }\n",
              "\n",
              "    if(typeof define === \"function\" && define.amd) {\n",
              "      requirejs.config({paths});\n",
              "      require([\"vega-embed\"], displayChart, err => showError(`Error loading script: ${err.message}`));\n",
              "    } else {\n",
              "      maybeLoadScript(\"vega\", \"5\")\n",
              "        .then(() => maybeLoadScript(\"vega-lite\", \"4.17.0\"))\n",
              "        .then(() => maybeLoadScript(\"vega-embed\", \"6\"))\n",
              "        .catch(showError)\n",
              "        .then(() => displayChart(vegaEmbed));\n",
              "    }\n",
              "  })({\"config\": {\"view\": {\"continuousWidth\": 400, \"continuousHeight\": 300}}, \"data\": {\"name\": \"data-a2d8556c425a43767835e89d5b2d1998\"}, \"mark\": \"line\", \"encoding\": {\"color\": {\"field\": \"Agua Fresca Juice Shop\", \"type\": \"nominal\"}, \"tooltip\": [{\"field\": \"Agua Fresca Juice Shop\", \"type\": \"nominal\"}, {\"field\": \"weekly_sales_total\", \"type\": \"quantitative\"}, {\"field\": \"week\", \"type\": \"temporal\"}], \"x\": {\"field\": \"week\", \"type\": \"temporal\"}, \"y\": {\"field\": \"weekly_sales_total\", \"type\": \"quantitative\"}}, \"height\": 300, \"selection\": {\"selector001\": {\"type\": \"interval\", \"bind\": \"scales\", \"encodings\": [\"x\", \"y\"]}}, \"width\": 600, \"$schema\": \"https://vega.github.io/schema/vega-lite/v4.17.0.json\", \"datasets\": {\"data-a2d8556c425a43767835e89d5b2d1998\": [{\"Agua Fresca Juice Shop\": \"happy city\", \"weekly_sales_total\": 916153, \"week\": \"february-19-2024\"}, {\"Agua Fresca Juice Shop\": \"marble city\", \"weekly_sales_total\": 515125, \"week\": \"february-19-2024\"}, {\"Agua Fresca Juice Shop\": \"bubble city\", \"weekly_sales_total\": 127326, \"week\": \"february-19-2024\"}, {\"Agua Fresca Juice Shop\": \"tustin\", \"weekly_sales_total\": 821887, \"week\": \"february-19-2024\"}, {\"Agua Fresca Juice Shop\": \"anaheim\", \"weekly_sales_total\": 306787, \"week\": \"february-19-2024\"}, {\"Agua Fresca Juice Shop\": \"san diego\", \"weekly_sales_total\": 813904, \"week\": \"february-19-2024\"}, {\"Agua Fresca Juice Shop\": \"new york city\", \"weekly_sales_total\": 326576, \"week\": \"february-19-2024\"}, {\"Agua Fresca Juice Shop\": \"leaf city\", \"weekly_sales_total\": 415002, \"week\": \"february-19-2024\"}, {\"Agua Fresca Juice Shop\": \"happy city\", \"weekly_sales_total\": 230742, \"week\": \"january-08-2024\"}, {\"Agua Fresca Juice Shop\": \"marble city\", \"weekly_sales_total\": 956126, \"week\": \"january-08-2024\"}, {\"Agua Fresca Juice Shop\": \"bubble city\", \"weekly_sales_total\": 586205, \"week\": \"january-08-2024\"}, {\"Agua Fresca Juice Shop\": \"tustin\", \"weekly_sales_total\": 798645, \"week\": \"january-08-2024\"}, {\"Agua Fresca Juice Shop\": \"anaheim\", \"weekly_sales_total\": 288388, \"week\": \"january-08-2024\"}, {\"Agua Fresca Juice Shop\": \"san diego\", \"weekly_sales_total\": 396316, \"week\": \"january-08-2024\"}, {\"Agua Fresca Juice Shop\": \"new york city\", \"weekly_sales_total\": 730142, \"week\": \"january-08-2024\"}, {\"Agua Fresca Juice Shop\": \"leaf city\", \"weekly_sales_total\": 948957, \"week\": \"january-08-2024\"}, {\"Agua Fresca Juice Shop\": \"happy city\", \"weekly_sales_total\": 918719, \"week\": \"march-11-2024\"}, {\"Agua Fresca Juice Shop\": \"marble city\", \"weekly_sales_total\": 160613, \"week\": \"march-11-2024\"}, {\"Agua Fresca Juice Shop\": \"bubble city\", \"weekly_sales_total\": 401558, \"week\": \"march-11-2024\"}, {\"Agua Fresca Juice Shop\": \"tustin\", \"weekly_sales_total\": 660850, \"week\": \"march-11-2024\"}, {\"Agua Fresca Juice Shop\": \"anaheim\", \"weekly_sales_total\": 170257, \"week\": \"march-11-2024\"}, {\"Agua Fresca Juice Shop\": \"san diego\", \"weekly_sales_total\": 799326, \"week\": \"march-11-2024\"}, {\"Agua Fresca Juice Shop\": \"new york city\", \"weekly_sales_total\": 932594, \"week\": \"march-11-2024\"}, {\"Agua Fresca Juice Shop\": \"leaf city\", \"weekly_sales_total\": 205395, \"week\": \"march-11-2024\"}, {\"Agua Fresca Juice Shop\": \"happy city\", \"weekly_sales_total\": 510668, \"week\": \"november-25-2024\"}, {\"Agua Fresca Juice Shop\": \"marble city\", \"weekly_sales_total\": 289075, \"week\": \"november-25-2024\"}, {\"Agua Fresca Juice Shop\": \"bubble city\", \"weekly_sales_total\": 312281, \"week\": \"november-25-2024\"}, {\"Agua Fresca Juice Shop\": \"tustin\", \"weekly_sales_total\": 497710, \"week\": \"november-25-2024\"}, {\"Agua Fresca Juice Shop\": \"anaheim\", \"weekly_sales_total\": 797198, \"week\": \"november-25-2024\"}, {\"Agua Fresca Juice Shop\": \"san diego\", \"weekly_sales_total\": 482017, \"week\": \"november-25-2024\"}, {\"Agua Fresca Juice Shop\": \"new york city\", \"weekly_sales_total\": 737018, \"week\": \"november-25-2024\"}, {\"Agua Fresca Juice Shop\": \"leaf city\", \"weekly_sales_total\": 115413, \"week\": \"november-25-2024\"}, {\"Agua Fresca Juice Shop\": \"happy city\", \"weekly_sales_total\": 999040, \"week\": \"october-21-2024\"}, {\"Agua Fresca Juice Shop\": \"marble city\", \"weekly_sales_total\": 116359, \"week\": \"october-21-2024\"}, {\"Agua Fresca Juice Shop\": \"bubble city\", \"weekly_sales_total\": 521833, \"week\": \"october-21-2024\"}, {\"Agua Fresca Juice Shop\": \"tustin\", \"weekly_sales_total\": 191936, \"week\": \"october-21-2024\"}, {\"Agua Fresca Juice Shop\": \"anaheim\", \"weekly_sales_total\": 561102, \"week\": \"october-21-2024\"}, {\"Agua Fresca Juice Shop\": \"san diego\", \"weekly_sales_total\": 664148, \"week\": \"october-21-2024\"}, {\"Agua Fresca Juice Shop\": \"new york city\", \"weekly_sales_total\": 290336, \"week\": \"october-21-2024\"}, {\"Agua Fresca Juice Shop\": \"leaf city\", \"weekly_sales_total\": 154157, \"week\": \"october-21-2024\"}, {\"Agua Fresca Juice Shop\": \"happy city\", \"weekly_sales_total\": 364422, \"week\": \"january-29-2024\"}, {\"Agua Fresca Juice Shop\": \"marble city\", \"weekly_sales_total\": 148280, \"week\": \"january-29-2024\"}, {\"Agua Fresca Juice Shop\": \"bubble city\", \"weekly_sales_total\": 184726, \"week\": \"january-29-2024\"}, {\"Agua Fresca Juice Shop\": \"tustin\", \"weekly_sales_total\": 768047, \"week\": \"january-29-2024\"}, {\"Agua Fresca Juice Shop\": \"anaheim\", \"weekly_sales_total\": 676000, \"week\": \"january-29-2024\"}, {\"Agua Fresca Juice Shop\": \"san diego\", \"weekly_sales_total\": 654820, \"week\": \"january-29-2024\"}, {\"Agua Fresca Juice Shop\": \"new york city\", \"weekly_sales_total\": 509921, \"week\": \"january-29-2024\"}, {\"Agua Fresca Juice Shop\": \"leaf city\", \"weekly_sales_total\": 732109, \"week\": \"january-29-2024\"}, {\"Agua Fresca Juice Shop\": \"happy city\", \"weekly_sales_total\": 733511, \"week\": \"october-28-2024\"}, {\"Agua Fresca Juice Shop\": \"marble city\", \"weekly_sales_total\": 358870, \"week\": \"october-28-2024\"}, {\"Agua Fresca Juice Shop\": \"bubble city\", \"weekly_sales_total\": 151090, \"week\": \"october-28-2024\"}, {\"Agua Fresca Juice Shop\": \"tustin\", \"weekly_sales_total\": 187616, \"week\": \"october-28-2024\"}, {\"Agua Fresca Juice Shop\": \"anaheim\", \"weekly_sales_total\": 894278, \"week\": \"october-28-2024\"}, {\"Agua Fresca Juice Shop\": \"san diego\", \"weekly_sales_total\": 181530, \"week\": \"october-28-2024\"}, {\"Agua Fresca Juice Shop\": \"new york city\", \"weekly_sales_total\": 956914, \"week\": \"october-28-2024\"}, {\"Agua Fresca Juice Shop\": \"leaf city\", \"weekly_sales_total\": 621557, \"week\": \"october-28-2024\"}, {\"Agua Fresca Juice Shop\": \"happy city\", \"weekly_sales_total\": 163807, \"week\": \"september-09-2024\"}, {\"Agua Fresca Juice Shop\": \"marble city\", \"weekly_sales_total\": 868223, \"week\": \"september-09-2024\"}, {\"Agua Fresca Juice Shop\": \"bubble city\", \"weekly_sales_total\": 170638, \"week\": \"september-09-2024\"}, {\"Agua Fresca Juice Shop\": \"tustin\", \"weekly_sales_total\": 684206, \"week\": \"september-09-2024\"}, {\"Agua Fresca Juice Shop\": \"anaheim\", \"weekly_sales_total\": 123163, \"week\": \"september-09-2024\"}, {\"Agua Fresca Juice Shop\": \"san diego\", \"weekly_sales_total\": 759874, \"week\": \"september-09-2024\"}, {\"Agua Fresca Juice Shop\": \"new york city\", \"weekly_sales_total\": 983900, \"week\": \"september-09-2024\"}, {\"Agua Fresca Juice Shop\": \"leaf city\", \"weekly_sales_total\": 886255, \"week\": \"september-09-2024\"}, {\"Agua Fresca Juice Shop\": \"happy city\", \"weekly_sales_total\": 866165, \"week\": \"november-11-2024\"}, {\"Agua Fresca Juice Shop\": \"marble city\", \"weekly_sales_total\": 248827, \"week\": \"november-11-2024\"}, {\"Agua Fresca Juice Shop\": \"bubble city\", \"weekly_sales_total\": 293717, \"week\": \"november-11-2024\"}, {\"Agua Fresca Juice Shop\": \"tustin\", \"weekly_sales_total\": 611959, \"week\": \"november-11-2024\"}, {\"Agua Fresca Juice Shop\": \"anaheim\", \"weekly_sales_total\": 243046, \"week\": \"november-11-2024\"}, {\"Agua Fresca Juice Shop\": \"san diego\", \"weekly_sales_total\": 201416, \"week\": \"november-11-2024\"}, {\"Agua Fresca Juice Shop\": \"new york city\", \"weekly_sales_total\": 499425, \"week\": \"november-11-2024\"}, {\"Agua Fresca Juice Shop\": \"leaf city\", \"weekly_sales_total\": 116980, \"week\": \"november-11-2024\"}, {\"Agua Fresca Juice Shop\": \"happy city\", \"weekly_sales_total\": 856574, \"week\": \"april-29-2024\"}, {\"Agua Fresca Juice Shop\": \"marble city\", \"weekly_sales_total\": 790463, \"week\": \"april-29-2024\"}, {\"Agua Fresca Juice Shop\": \"bubble city\", \"weekly_sales_total\": 395582, \"week\": \"april-29-2024\"}, {\"Agua Fresca Juice Shop\": \"tustin\", \"weekly_sales_total\": 696872, \"week\": \"april-29-2024\"}, {\"Agua Fresca Juice Shop\": \"anaheim\", \"weekly_sales_total\": 696326, \"week\": \"april-29-2024\"}, {\"Agua Fresca Juice Shop\": \"san diego\", \"weekly_sales_total\": 965042, \"week\": \"april-29-2024\"}, {\"Agua Fresca Juice Shop\": \"new york city\", \"weekly_sales_total\": 494815, \"week\": \"april-29-2024\"}, {\"Agua Fresca Juice Shop\": \"leaf city\", \"weekly_sales_total\": 324152, \"week\": \"april-29-2024\"}, {\"Agua Fresca Juice Shop\": \"happy city\", \"weekly_sales_total\": 134074, \"week\": \"december-09-2024\"}, {\"Agua Fresca Juice Shop\": \"marble city\", \"weekly_sales_total\": 945383, \"week\": \"december-09-2024\"}, {\"Agua Fresca Juice Shop\": \"bubble city\", \"weekly_sales_total\": 971711, \"week\": \"december-09-2024\"}, {\"Agua Fresca Juice Shop\": \"tustin\", \"weekly_sales_total\": 737223, \"week\": \"december-09-2024\"}, {\"Agua Fresca Juice Shop\": \"anaheim\", \"weekly_sales_total\": 668060, \"week\": \"december-09-2024\"}, {\"Agua Fresca Juice Shop\": \"san diego\", \"weekly_sales_total\": 200806, \"week\": \"december-09-2024\"}, {\"Agua Fresca Juice Shop\": \"new york city\", \"weekly_sales_total\": 271964, \"week\": \"december-09-2024\"}, {\"Agua Fresca Juice Shop\": \"leaf city\", \"weekly_sales_total\": 392614, \"week\": \"december-09-2024\"}, {\"Agua Fresca Juice Shop\": \"happy city\", \"weekly_sales_total\": 196835, \"week\": \"june-24-2024\"}, {\"Agua Fresca Juice Shop\": \"marble city\", \"weekly_sales_total\": 936703, \"week\": \"june-24-2024\"}, {\"Agua Fresca Juice Shop\": \"bubble city\", \"weekly_sales_total\": 491757, \"week\": \"june-24-2024\"}, {\"Agua Fresca Juice Shop\": \"tustin\", \"weekly_sales_total\": 421353, \"week\": \"june-24-2024\"}, {\"Agua Fresca Juice Shop\": \"anaheim\", \"weekly_sales_total\": 502716, \"week\": \"june-24-2024\"}, {\"Agua Fresca Juice Shop\": \"san diego\", \"weekly_sales_total\": 738569, \"week\": \"june-24-2024\"}, {\"Agua Fresca Juice Shop\": \"new york city\", \"weekly_sales_total\": 954185, \"week\": \"june-24-2024\"}, {\"Agua Fresca Juice Shop\": \"leaf city\", \"weekly_sales_total\": 743762, \"week\": \"june-24-2024\"}, {\"Agua Fresca Juice Shop\": \"happy city\", \"weekly_sales_total\": 888610, \"week\": \"july-01-2024\"}, {\"Agua Fresca Juice Shop\": \"marble city\", \"weekly_sales_total\": 572605, \"week\": \"july-01-2024\"}, {\"Agua Fresca Juice Shop\": \"bubble city\", \"weekly_sales_total\": 619070, \"week\": \"july-01-2024\"}, {\"Agua Fresca Juice Shop\": \"tustin\", \"weekly_sales_total\": 613105, \"week\": \"july-01-2024\"}, {\"Agua Fresca Juice Shop\": \"anaheim\", \"weekly_sales_total\": 874275, \"week\": \"july-01-2024\"}, {\"Agua Fresca Juice Shop\": \"san diego\", \"weekly_sales_total\": 758185, \"week\": \"july-01-2024\"}, {\"Agua Fresca Juice Shop\": \"new york city\", \"weekly_sales_total\": 157787, \"week\": \"july-01-2024\"}, {\"Agua Fresca Juice Shop\": \"leaf city\", \"weekly_sales_total\": 284635, \"week\": \"july-01-2024\"}, {\"Agua Fresca Juice Shop\": \"happy city\", \"weekly_sales_total\": 409789, \"week\": \"september-23-2024\"}, {\"Agua Fresca Juice Shop\": \"marble city\", \"weekly_sales_total\": 277199, \"week\": \"september-23-2024\"}, {\"Agua Fresca Juice Shop\": \"bubble city\", \"weekly_sales_total\": 228599, \"week\": \"september-23-2024\"}, {\"Agua Fresca Juice Shop\": \"tustin\", \"weekly_sales_total\": 618098, \"week\": \"september-23-2024\"}, {\"Agua Fresca Juice Shop\": \"anaheim\", \"weekly_sales_total\": 996212, \"week\": \"september-23-2024\"}, {\"Agua Fresca Juice Shop\": \"san diego\", \"weekly_sales_total\": 439866, \"week\": \"september-23-2024\"}, {\"Agua Fresca Juice Shop\": \"new york city\", \"weekly_sales_total\": 173908, \"week\": \"september-23-2024\"}, {\"Agua Fresca Juice Shop\": \"leaf city\", \"weekly_sales_total\": 676138, \"week\": \"september-23-2024\"}, {\"Agua Fresca Juice Shop\": \"happy city\", \"weekly_sales_total\": 271844, \"week\": \"october-07-2024\"}, {\"Agua Fresca Juice Shop\": \"marble city\", \"weekly_sales_total\": 533275, \"week\": \"october-07-2024\"}, {\"Agua Fresca Juice Shop\": \"bubble city\", \"weekly_sales_total\": 777334, \"week\": \"october-07-2024\"}, {\"Agua Fresca Juice Shop\": \"tustin\", \"weekly_sales_total\": 571824, \"week\": \"october-07-2024\"}, {\"Agua Fresca Juice Shop\": \"anaheim\", \"weekly_sales_total\": 195848, \"week\": \"october-07-2024\"}, {\"Agua Fresca Juice Shop\": \"san diego\", \"weekly_sales_total\": 270627, \"week\": \"october-07-2024\"}, {\"Agua Fresca Juice Shop\": \"new york city\", \"weekly_sales_total\": 667770, \"week\": \"october-07-2024\"}, {\"Agua Fresca Juice Shop\": \"leaf city\", \"weekly_sales_total\": 337553, \"week\": \"october-07-2024\"}, {\"Agua Fresca Juice Shop\": \"happy city\", \"weekly_sales_total\": 938142, \"week\": \"may-27-2024\"}, {\"Agua Fresca Juice Shop\": \"marble city\", \"weekly_sales_total\": 864728, \"week\": \"may-27-2024\"}, {\"Agua Fresca Juice Shop\": \"bubble city\", \"weekly_sales_total\": 392017, \"week\": \"may-27-2024\"}, {\"Agua Fresca Juice Shop\": \"tustin\", \"weekly_sales_total\": 245002, \"week\": \"may-27-2024\"}, {\"Agua Fresca Juice Shop\": \"anaheim\", \"weekly_sales_total\": 679551, \"week\": \"may-27-2024\"}, {\"Agua Fresca Juice Shop\": \"san diego\", \"weekly_sales_total\": 781790, \"week\": \"may-27-2024\"}, {\"Agua Fresca Juice Shop\": \"new york city\", \"weekly_sales_total\": 658503, \"week\": \"may-27-2024\"}, {\"Agua Fresca Juice Shop\": \"leaf city\", \"weekly_sales_total\": 613882, \"week\": \"may-27-2024\"}, {\"Agua Fresca Juice Shop\": \"happy city\", \"weekly_sales_total\": 135425, \"week\": \"august-19-2024\"}, {\"Agua Fresca Juice Shop\": \"marble city\", \"weekly_sales_total\": 111287, \"week\": \"august-19-2024\"}, {\"Agua Fresca Juice Shop\": \"bubble city\", \"weekly_sales_total\": 504149, \"week\": \"august-19-2024\"}, {\"Agua Fresca Juice Shop\": \"tustin\", \"weekly_sales_total\": 161803, \"week\": \"august-19-2024\"}, {\"Agua Fresca Juice Shop\": \"anaheim\", \"weekly_sales_total\": 416620, \"week\": \"august-19-2024\"}, {\"Agua Fresca Juice Shop\": \"san diego\", \"weekly_sales_total\": 653812, \"week\": \"august-19-2024\"}, {\"Agua Fresca Juice Shop\": \"new york city\", \"weekly_sales_total\": 638854, \"week\": \"august-19-2024\"}, {\"Agua Fresca Juice Shop\": \"leaf city\", \"weekly_sales_total\": 305732, \"week\": \"august-19-2024\"}, {\"Agua Fresca Juice Shop\": \"happy city\", \"weekly_sales_total\": 717172, \"week\": \"january-22-2024\"}, {\"Agua Fresca Juice Shop\": \"marble city\", \"weekly_sales_total\": 118565, \"week\": \"january-22-2024\"}, {\"Agua Fresca Juice Shop\": \"bubble city\", \"weekly_sales_total\": 537154, \"week\": \"january-22-2024\"}, {\"Agua Fresca Juice Shop\": \"tustin\", \"weekly_sales_total\": 871207, \"week\": \"january-22-2024\"}, {\"Agua Fresca Juice Shop\": \"anaheim\", \"weekly_sales_total\": 300760, \"week\": \"january-22-2024\"}, {\"Agua Fresca Juice Shop\": \"san diego\", \"weekly_sales_total\": 835776, \"week\": \"january-22-2024\"}, {\"Agua Fresca Juice Shop\": \"new york city\", \"weekly_sales_total\": 587756, \"week\": \"january-22-2024\"}, {\"Agua Fresca Juice Shop\": \"leaf city\", \"weekly_sales_total\": 126222, \"week\": \"january-22-2024\"}, {\"Agua Fresca Juice Shop\": \"happy city\", \"weekly_sales_total\": 101952, \"week\": \"august-26-2024\"}, {\"Agua Fresca Juice Shop\": \"marble city\", \"weekly_sales_total\": 249801, \"week\": \"august-26-2024\"}, {\"Agua Fresca Juice Shop\": \"bubble city\", \"weekly_sales_total\": 934862, \"week\": \"august-26-2024\"}, {\"Agua Fresca Juice Shop\": \"tustin\", \"weekly_sales_total\": 247662, \"week\": \"august-26-2024\"}, {\"Agua Fresca Juice Shop\": \"anaheim\", \"weekly_sales_total\": 114356, \"week\": \"august-26-2024\"}, {\"Agua Fresca Juice Shop\": \"san diego\", \"weekly_sales_total\": 848826, \"week\": \"august-26-2024\"}, {\"Agua Fresca Juice Shop\": \"new york city\", \"weekly_sales_total\": 247662, \"week\": \"august-26-2024\"}, {\"Agua Fresca Juice Shop\": \"leaf city\", \"weekly_sales_total\": 595549, \"week\": \"august-26-2024\"}, {\"Agua Fresca Juice Shop\": \"happy city\", \"weekly_sales_total\": 587267, \"week\": \"november-18-2024\"}, {\"Agua Fresca Juice Shop\": \"marble city\", \"weekly_sales_total\": 326159, \"week\": \"november-18-2024\"}, {\"Agua Fresca Juice Shop\": \"bubble city\", \"weekly_sales_total\": 324634, \"week\": \"november-18-2024\"}, {\"Agua Fresca Juice Shop\": \"tustin\", \"weekly_sales_total\": 795611, \"week\": \"november-18-2024\"}, {\"Agua Fresca Juice Shop\": \"anaheim\", \"weekly_sales_total\": 166717, \"week\": \"november-18-2024\"}, {\"Agua Fresca Juice Shop\": \"san diego\", \"weekly_sales_total\": 822567, \"week\": \"november-18-2024\"}, {\"Agua Fresca Juice Shop\": \"new york city\", \"weekly_sales_total\": 719607, \"week\": \"november-18-2024\"}, {\"Agua Fresca Juice Shop\": \"leaf city\", \"weekly_sales_total\": 622570, \"week\": \"november-18-2024\"}, {\"Agua Fresca Juice Shop\": \"happy city\", \"weekly_sales_total\": 815024, \"week\": \"july-22-2024\"}, {\"Agua Fresca Juice Shop\": \"marble city\", \"weekly_sales_total\": 114142, \"week\": \"july-22-2024\"}, {\"Agua Fresca Juice Shop\": \"bubble city\", \"weekly_sales_total\": 566847, \"week\": \"july-22-2024\"}, {\"Agua Fresca Juice Shop\": \"tustin\", \"weekly_sales_total\": 341600, \"week\": \"july-22-2024\"}, {\"Agua Fresca Juice Shop\": \"anaheim\", \"weekly_sales_total\": 488152, \"week\": \"july-22-2024\"}, {\"Agua Fresca Juice Shop\": \"san diego\", \"weekly_sales_total\": 264764, \"week\": \"july-22-2024\"}, {\"Agua Fresca Juice Shop\": \"new york city\", \"weekly_sales_total\": 709983, \"week\": \"july-22-2024\"}, {\"Agua Fresca Juice Shop\": \"leaf city\", \"weekly_sales_total\": 118111, \"week\": \"july-22-2024\"}, {\"Agua Fresca Juice Shop\": \"happy city\", \"weekly_sales_total\": 816919, \"week\": \"june-10-2024\"}, {\"Agua Fresca Juice Shop\": \"marble city\", \"weekly_sales_total\": 106498, \"week\": \"june-10-2024\"}, {\"Agua Fresca Juice Shop\": \"bubble city\", \"weekly_sales_total\": 184239, \"week\": \"june-10-2024\"}, {\"Agua Fresca Juice Shop\": \"tustin\", \"weekly_sales_total\": 281268, \"week\": \"june-10-2024\"}, {\"Agua Fresca Juice Shop\": \"anaheim\", \"weekly_sales_total\": 712388, \"week\": \"june-10-2024\"}, {\"Agua Fresca Juice Shop\": \"san diego\", \"weekly_sales_total\": 996396, \"week\": \"june-10-2024\"}, {\"Agua Fresca Juice Shop\": \"new york city\", \"weekly_sales_total\": 954374, \"week\": \"june-10-2024\"}, {\"Agua Fresca Juice Shop\": \"leaf city\", \"weekly_sales_total\": 964335, \"week\": \"june-10-2024\"}, {\"Agua Fresca Juice Shop\": \"happy city\", \"weekly_sales_total\": 259878, \"week\": \"august-05-2024\"}, {\"Agua Fresca Juice Shop\": \"marble city\", \"weekly_sales_total\": 717923, \"week\": \"august-05-2024\"}, {\"Agua Fresca Juice Shop\": \"bubble city\", \"weekly_sales_total\": 140498, \"week\": \"august-05-2024\"}, {\"Agua Fresca Juice Shop\": \"tustin\", \"weekly_sales_total\": 728345, \"week\": \"august-05-2024\"}, {\"Agua Fresca Juice Shop\": \"anaheim\", \"weekly_sales_total\": 922515, \"week\": \"august-05-2024\"}, {\"Agua Fresca Juice Shop\": \"san diego\", \"weekly_sales_total\": 428576, \"week\": \"august-05-2024\"}, {\"Agua Fresca Juice Shop\": \"new york city\", \"weekly_sales_total\": 909377, \"week\": \"august-05-2024\"}, {\"Agua Fresca Juice Shop\": \"leaf city\", \"weekly_sales_total\": 834456, \"week\": \"august-05-2024\"}, {\"Agua Fresca Juice Shop\": \"happy city\", \"weekly_sales_total\": 106733, \"week\": \"april-15-2024\"}, {\"Agua Fresca Juice Shop\": \"marble city\", \"weekly_sales_total\": 495882, \"week\": \"april-15-2024\"}, {\"Agua Fresca Juice Shop\": \"bubble city\", \"weekly_sales_total\": 191257, \"week\": \"april-15-2024\"}, {\"Agua Fresca Juice Shop\": \"tustin\", \"weekly_sales_total\": 477641, \"week\": \"april-15-2024\"}, {\"Agua Fresca Juice Shop\": \"anaheim\", \"weekly_sales_total\": 725158, \"week\": \"april-15-2024\"}, {\"Agua Fresca Juice Shop\": \"san diego\", \"weekly_sales_total\": 348582, \"week\": \"april-15-2024\"}, {\"Agua Fresca Juice Shop\": \"new york city\", \"weekly_sales_total\": 963486, \"week\": \"april-15-2024\"}, {\"Agua Fresca Juice Shop\": \"leaf city\", \"weekly_sales_total\": 787076, \"week\": \"april-15-2024\"}, {\"Agua Fresca Juice Shop\": \"happy city\", \"weekly_sales_total\": 530072, \"week\": \"march-18-2024\"}, {\"Agua Fresca Juice Shop\": \"marble city\", \"weekly_sales_total\": 916395, \"week\": \"march-18-2024\"}, {\"Agua Fresca Juice Shop\": \"bubble city\", \"weekly_sales_total\": 820974, \"week\": \"march-18-2024\"}, {\"Agua Fresca Juice Shop\": \"tustin\", \"weekly_sales_total\": 505402, \"week\": \"march-18-2024\"}, {\"Agua Fresca Juice Shop\": \"anaheim\", \"weekly_sales_total\": 195236, \"week\": \"march-18-2024\"}, {\"Agua Fresca Juice Shop\": \"san diego\", \"weekly_sales_total\": 673170, \"week\": \"march-18-2024\"}, {\"Agua Fresca Juice Shop\": \"new york city\", \"weekly_sales_total\": 469547, \"week\": \"march-18-2024\"}, {\"Agua Fresca Juice Shop\": \"leaf city\", \"weekly_sales_total\": 768670, \"week\": \"march-18-2024\"}, {\"Agua Fresca Juice Shop\": \"happy city\", \"weekly_sales_total\": 278113, \"week\": \"september-16-2024\"}, {\"Agua Fresca Juice Shop\": \"marble city\", \"weekly_sales_total\": 416422, \"week\": \"september-16-2024\"}, {\"Agua Fresca Juice Shop\": \"bubble city\", \"weekly_sales_total\": 315997, \"week\": \"september-16-2024\"}, {\"Agua Fresca Juice Shop\": \"tustin\", \"weekly_sales_total\": 649677, \"week\": \"september-16-2024\"}, {\"Agua Fresca Juice Shop\": \"anaheim\", \"weekly_sales_total\": 740713, \"week\": \"september-16-2024\"}, {\"Agua Fresca Juice Shop\": \"san diego\", \"weekly_sales_total\": 736411, \"week\": \"september-16-2024\"}, {\"Agua Fresca Juice Shop\": \"new york city\", \"weekly_sales_total\": 448353, \"week\": \"september-16-2024\"}, {\"Agua Fresca Juice Shop\": \"leaf city\", \"weekly_sales_total\": 490556, \"week\": \"september-16-2024\"}, {\"Agua Fresca Juice Shop\": \"happy city\", \"weekly_sales_total\": 420477, \"week\": \"july-08-2024\"}, {\"Agua Fresca Juice Shop\": \"marble city\", \"weekly_sales_total\": 930226, \"week\": \"july-08-2024\"}, {\"Agua Fresca Juice Shop\": \"bubble city\", \"weekly_sales_total\": 464792, \"week\": \"july-08-2024\"}, {\"Agua Fresca Juice Shop\": \"tustin\", \"weekly_sales_total\": 879841, \"week\": \"july-08-2024\"}, {\"Agua Fresca Juice Shop\": \"anaheim\", \"weekly_sales_total\": 979988, \"week\": \"july-08-2024\"}, {\"Agua Fresca Juice Shop\": \"san diego\", \"weekly_sales_total\": 494795, \"week\": \"july-08-2024\"}, {\"Agua Fresca Juice Shop\": \"new york city\", \"weekly_sales_total\": 638084, \"week\": \"july-08-2024\"}, {\"Agua Fresca Juice Shop\": \"leaf city\", \"weekly_sales_total\": 674407, \"week\": \"july-08-2024\"}, {\"Agua Fresca Juice Shop\": \"happy city\", \"weekly_sales_total\": 606484, \"week\": \"april-01-2024\"}, {\"Agua Fresca Juice Shop\": \"marble city\", \"weekly_sales_total\": 767842, \"week\": \"april-01-2024\"}, {\"Agua Fresca Juice Shop\": \"bubble city\", \"weekly_sales_total\": 778623, \"week\": \"april-01-2024\"}, {\"Agua Fresca Juice Shop\": \"tustin\", \"weekly_sales_total\": 495295, \"week\": \"april-01-2024\"}, {\"Agua Fresca Juice Shop\": \"anaheim\", \"weekly_sales_total\": 389295, \"week\": \"april-01-2024\"}, {\"Agua Fresca Juice Shop\": \"san diego\", \"weekly_sales_total\": 725672, \"week\": \"april-01-2024\"}, {\"Agua Fresca Juice Shop\": \"new york city\", \"weekly_sales_total\": 526066, \"week\": \"april-01-2024\"}, {\"Agua Fresca Juice Shop\": \"leaf city\", \"weekly_sales_total\": 449200, \"week\": \"april-01-2024\"}, {\"Agua Fresca Juice Shop\": \"happy city\", \"weekly_sales_total\": 435645, \"week\": \"weekly_sales\"}, {\"Agua Fresca Juice Shop\": \"marble city\", \"weekly_sales_total\": 408614, \"week\": \"weekly_sales\"}, {\"Agua Fresca Juice Shop\": \"bubble city\", \"weekly_sales_total\": 629701, \"week\": \"weekly_sales\"}, {\"Agua Fresca Juice Shop\": \"tustin\", \"weekly_sales_total\": 763263, \"week\": \"weekly_sales\"}, {\"Agua Fresca Juice Shop\": \"anaheim\", \"weekly_sales_total\": 677095, \"week\": \"weekly_sales\"}, {\"Agua Fresca Juice Shop\": \"san diego\", \"weekly_sales_total\": 770484, \"week\": \"weekly_sales\"}, {\"Agua Fresca Juice Shop\": \"new york city\", \"weekly_sales_total\": 575968, \"week\": \"weekly_sales\"}, {\"Agua Fresca Juice Shop\": \"leaf city\", \"weekly_sales_total\": 480703, \"week\": \"weekly_sales\"}, {\"Agua Fresca Juice Shop\": \"happy city\", \"weekly_sales_total\": 487508, \"week\": \"february-12-2024\"}, {\"Agua Fresca Juice Shop\": \"marble city\", \"weekly_sales_total\": 519473, \"week\": \"february-12-2024\"}, {\"Agua Fresca Juice Shop\": \"bubble city\", \"weekly_sales_total\": 317114, \"week\": \"february-12-2024\"}, {\"Agua Fresca Juice Shop\": \"tustin\", \"weekly_sales_total\": 374009, \"week\": \"february-12-2024\"}, {\"Agua Fresca Juice Shop\": \"anaheim\", \"weekly_sales_total\": 248281, \"week\": \"february-12-2024\"}, {\"Agua Fresca Juice Shop\": \"san diego\", \"weekly_sales_total\": 557798, \"week\": \"february-12-2024\"}, {\"Agua Fresca Juice Shop\": \"new york city\", \"weekly_sales_total\": 394545, \"week\": \"february-12-2024\"}, {\"Agua Fresca Juice Shop\": \"leaf city\", \"weekly_sales_total\": 648669, \"week\": \"february-12-2024\"}, {\"Agua Fresca Juice Shop\": \"happy city\", \"weekly_sales_total\": 826785, \"week\": \"april-22-2024\"}, {\"Agua Fresca Juice Shop\": \"marble city\", \"weekly_sales_total\": 412606, \"week\": \"april-22-2024\"}, {\"Agua Fresca Juice Shop\": \"bubble city\", \"weekly_sales_total\": 846558, \"week\": \"april-22-2024\"}, {\"Agua Fresca Juice Shop\": \"tustin\", \"weekly_sales_total\": 121780, \"week\": \"april-22-2024\"}, {\"Agua Fresca Juice Shop\": \"anaheim\", \"weekly_sales_total\": 739243, \"week\": \"april-22-2024\"}, {\"Agua Fresca Juice Shop\": \"san diego\", \"weekly_sales_total\": 752059, \"week\": \"april-22-2024\"}, {\"Agua Fresca Juice Shop\": \"new york city\", \"weekly_sales_total\": 479904, \"week\": \"april-22-2024\"}, {\"Agua Fresca Juice Shop\": \"leaf city\", \"weekly_sales_total\": 486723, \"week\": \"april-22-2024\"}, {\"Agua Fresca Juice Shop\": \"happy city\", \"weekly_sales_total\": 458249, \"week\": \"june-03-2024\"}, {\"Agua Fresca Juice Shop\": \"marble city\", \"weekly_sales_total\": 966879, \"week\": \"june-03-2024\"}, {\"Agua Fresca Juice Shop\": \"bubble city\", \"weekly_sales_total\": 160767, \"week\": \"june-03-2024\"}, {\"Agua Fresca Juice Shop\": \"tustin\", \"weekly_sales_total\": 708700, \"week\": \"june-03-2024\"}, {\"Agua Fresca Juice Shop\": \"anaheim\", \"weekly_sales_total\": 483842, \"week\": \"june-03-2024\"}, {\"Agua Fresca Juice Shop\": \"san diego\", \"weekly_sales_total\": 988628, \"week\": \"june-03-2024\"}, {\"Agua Fresca Juice Shop\": \"new york city\", \"weekly_sales_total\": 215129, \"week\": \"june-03-2024\"}, {\"Agua Fresca Juice Shop\": \"leaf city\", \"weekly_sales_total\": 749866, \"week\": \"june-03-2024\"}, {\"Agua Fresca Juice Shop\": \"happy city\", \"weekly_sales_total\": 916162, \"week\": \"may-13-2024\"}, {\"Agua Fresca Juice Shop\": \"marble city\", \"weekly_sales_total\": 381756, \"week\": \"may-13-2024\"}, {\"Agua Fresca Juice Shop\": \"bubble city\", \"weekly_sales_total\": 174496, \"week\": \"may-13-2024\"}, {\"Agua Fresca Juice Shop\": \"tustin\", \"weekly_sales_total\": 455225, \"week\": \"may-13-2024\"}, {\"Agua Fresca Juice Shop\": \"anaheim\", \"weekly_sales_total\": 876269, \"week\": \"may-13-2024\"}, {\"Agua Fresca Juice Shop\": \"san diego\", \"weekly_sales_total\": 652276, \"week\": \"may-13-2024\"}, {\"Agua Fresca Juice Shop\": \"new york city\", \"weekly_sales_total\": 714232, \"week\": \"may-13-2024\"}, {\"Agua Fresca Juice Shop\": \"leaf city\", \"weekly_sales_total\": 396060, \"week\": \"may-13-2024\"}, {\"Agua Fresca Juice Shop\": \"happy city\", \"weekly_sales_total\": 402251, \"week\": \"june-17-2024\"}, {\"Agua Fresca Juice Shop\": \"marble city\", \"weekly_sales_total\": 518505, \"week\": \"june-17-2024\"}, {\"Agua Fresca Juice Shop\": \"bubble city\", \"weekly_sales_total\": 349374, \"week\": \"june-17-2024\"}, {\"Agua Fresca Juice Shop\": \"tustin\", \"weekly_sales_total\": 409264, \"week\": \"june-17-2024\"}, {\"Agua Fresca Juice Shop\": \"anaheim\", \"weekly_sales_total\": 218086, \"week\": \"june-17-2024\"}, {\"Agua Fresca Juice Shop\": \"san diego\", \"weekly_sales_total\": 298685, \"week\": \"june-17-2024\"}, {\"Agua Fresca Juice Shop\": \"new york city\", \"weekly_sales_total\": 128874, \"week\": \"june-17-2024\"}, {\"Agua Fresca Juice Shop\": \"leaf city\", \"weekly_sales_total\": 256864, \"week\": \"june-17-2024\"}, {\"Agua Fresca Juice Shop\": \"happy city\", \"weekly_sales_total\": 427485, \"week\": \"may-20-2024\"}, {\"Agua Fresca Juice Shop\": \"marble city\", \"weekly_sales_total\": 122127, \"week\": \"may-20-2024\"}, {\"Agua Fresca Juice Shop\": \"bubble city\", \"weekly_sales_total\": 585417, \"week\": \"may-20-2024\"}, {\"Agua Fresca Juice Shop\": \"tustin\", \"weekly_sales_total\": 800039, \"week\": \"may-20-2024\"}, {\"Agua Fresca Juice Shop\": \"anaheim\", \"weekly_sales_total\": 154950, \"week\": \"may-20-2024\"}, {\"Agua Fresca Juice Shop\": \"san diego\", \"weekly_sales_total\": 985812, \"week\": \"may-20-2024\"}, {\"Agua Fresca Juice Shop\": \"new york city\", \"weekly_sales_total\": 840183, \"week\": \"may-20-2024\"}, {\"Agua Fresca Juice Shop\": \"leaf city\", \"weekly_sales_total\": 610824, \"week\": \"may-20-2024\"}, {\"Agua Fresca Juice Shop\": \"happy city\", \"weekly_sales_total\": 234477, \"week\": \"february-05-2024\"}, {\"Agua Fresca Juice Shop\": \"marble city\", \"weekly_sales_total\": 798666, \"week\": \"february-05-2024\"}, {\"Agua Fresca Juice Shop\": \"bubble city\", \"weekly_sales_total\": 761476, \"week\": \"february-05-2024\"}, {\"Agua Fresca Juice Shop\": \"tustin\", \"weekly_sales_total\": 376146, \"week\": \"february-05-2024\"}, {\"Agua Fresca Juice Shop\": \"anaheim\", \"weekly_sales_total\": 872735, \"week\": \"february-05-2024\"}, {\"Agua Fresca Juice Shop\": \"san diego\", \"weekly_sales_total\": 772605, \"week\": \"february-05-2024\"}, {\"Agua Fresca Juice Shop\": \"new york city\", \"weekly_sales_total\": 852874, \"week\": \"february-05-2024\"}, {\"Agua Fresca Juice Shop\": \"leaf city\", \"weekly_sales_total\": 526178, \"week\": \"february-05-2024\"}, {\"Agua Fresca Juice Shop\": \"happy city\", \"weekly_sales_total\": 830065, \"week\": \"may-06-2024\"}, {\"Agua Fresca Juice Shop\": \"marble city\", \"weekly_sales_total\": 987809, \"week\": \"may-06-2024\"}, {\"Agua Fresca Juice Shop\": \"bubble city\", \"weekly_sales_total\": 309763, \"week\": \"may-06-2024\"}, {\"Agua Fresca Juice Shop\": \"tustin\", \"weekly_sales_total\": 911198, \"week\": \"may-06-2024\"}, {\"Agua Fresca Juice Shop\": \"anaheim\", \"weekly_sales_total\": 116745, \"week\": \"may-06-2024\"}, {\"Agua Fresca Juice Shop\": \"san diego\", \"weekly_sales_total\": 240392, \"week\": \"may-06-2024\"}, {\"Agua Fresca Juice Shop\": \"new york city\", \"weekly_sales_total\": 697986, \"week\": \"may-06-2024\"}, {\"Agua Fresca Juice Shop\": \"leaf city\", \"weekly_sales_total\": 859585, \"week\": \"may-06-2024\"}, {\"Agua Fresca Juice Shop\": \"happy city\", \"weekly_sales_total\": 621640, \"week\": \"july-29-2024\"}, {\"Agua Fresca Juice Shop\": \"marble city\", \"weekly_sales_total\": 778773, \"week\": \"july-29-2024\"}, {\"Agua Fresca Juice Shop\": \"bubble city\", \"weekly_sales_total\": 485558, \"week\": \"july-29-2024\"}, {\"Agua Fresca Juice Shop\": \"tustin\", \"weekly_sales_total\": 102308, \"week\": \"july-29-2024\"}, {\"Agua Fresca Juice Shop\": \"anaheim\", \"weekly_sales_total\": 302212, \"week\": \"july-29-2024\"}, {\"Agua Fresca Juice Shop\": \"san diego\", \"weekly_sales_total\": 881745, \"week\": \"july-29-2024\"}, {\"Agua Fresca Juice Shop\": \"new york city\", \"weekly_sales_total\": 401095, \"week\": \"july-29-2024\"}, {\"Agua Fresca Juice Shop\": \"leaf city\", \"weekly_sales_total\": 514445, \"week\": \"july-29-2024\"}, {\"Agua Fresca Juice Shop\": \"happy city\", \"weekly_sales_total\": 534584, \"week\": \"december-16-2024\"}, {\"Agua Fresca Juice Shop\": \"marble city\", \"weekly_sales_total\": 883463, \"week\": \"december-16-2024\"}, {\"Agua Fresca Juice Shop\": \"bubble city\", \"weekly_sales_total\": 849630, \"week\": \"december-16-2024\"}, {\"Agua Fresca Juice Shop\": \"tustin\", \"weekly_sales_total\": 189654, \"week\": \"december-16-2024\"}, {\"Agua Fresca Juice Shop\": \"anaheim\", \"weekly_sales_total\": 648886, \"week\": \"december-16-2024\"}, {\"Agua Fresca Juice Shop\": \"san diego\", \"weekly_sales_total\": 594039, \"week\": \"december-16-2024\"}, {\"Agua Fresca Juice Shop\": \"new york city\", \"weekly_sales_total\": 408652, \"week\": \"december-16-2024\"}, {\"Agua Fresca Juice Shop\": \"leaf city\", \"weekly_sales_total\": 279470, \"week\": \"december-16-2024\"}, {\"Agua Fresca Juice Shop\": \"happy city\", \"weekly_sales_total\": 766767, \"week\": \"september-02-2024\"}, {\"Agua Fresca Juice Shop\": \"marble city\", \"weekly_sales_total\": 997364, \"week\": \"september-02-2024\"}, {\"Agua Fresca Juice Shop\": \"bubble city\", \"weekly_sales_total\": 254533, \"week\": \"september-02-2024\"}, {\"Agua Fresca Juice Shop\": \"tustin\", \"weekly_sales_total\": 436871, \"week\": \"september-02-2024\"}, {\"Agua Fresca Juice Shop\": \"anaheim\", \"weekly_sales_total\": 770084, \"week\": \"september-02-2024\"}, {\"Agua Fresca Juice Shop\": \"san diego\", \"weekly_sales_total\": 289627, \"week\": \"september-02-2024\"}, {\"Agua Fresca Juice Shop\": \"new york city\", \"weekly_sales_total\": 994535, \"week\": \"september-02-2024\"}, {\"Agua Fresca Juice Shop\": \"leaf city\", \"weekly_sales_total\": 854249, \"week\": \"september-02-2024\"}, {\"Agua Fresca Juice Shop\": \"happy city\", \"weekly_sales_total\": 967516, \"week\": \"march-25-2024\"}, {\"Agua Fresca Juice Shop\": \"marble city\", \"weekly_sales_total\": 596744, \"week\": \"march-25-2024\"}, {\"Agua Fresca Juice Shop\": \"bubble city\", \"weekly_sales_total\": 272538, \"week\": \"march-25-2024\"}, {\"Agua Fresca Juice Shop\": \"tustin\", \"weekly_sales_total\": 616109, \"week\": \"march-25-2024\"}, {\"Agua Fresca Juice Shop\": \"anaheim\", \"weekly_sales_total\": 341391, \"week\": \"march-25-2024\"}, {\"Agua Fresca Juice Shop\": \"san diego\", \"weekly_sales_total\": 628369, \"week\": \"march-25-2024\"}, {\"Agua Fresca Juice Shop\": \"new york city\", \"weekly_sales_total\": 996284, \"week\": \"march-25-2024\"}, {\"Agua Fresca Juice Shop\": \"leaf city\", \"weekly_sales_total\": 243754, \"week\": \"march-25-2024\"}, {\"Agua Fresca Juice Shop\": \"happy city\", \"weekly_sales_total\": 198657, \"week\": \"december-02-2024\"}, {\"Agua Fresca Juice Shop\": \"marble city\", \"weekly_sales_total\": 421337, \"week\": \"december-02-2024\"}, {\"Agua Fresca Juice Shop\": \"bubble city\", \"weekly_sales_total\": 280467, \"week\": \"december-02-2024\"}, {\"Agua Fresca Juice Shop\": \"tustin\", \"weekly_sales_total\": 201880, \"week\": \"december-02-2024\"}, {\"Agua Fresca Juice Shop\": \"anaheim\", \"weekly_sales_total\": 929299, \"week\": \"december-02-2024\"}, {\"Agua Fresca Juice Shop\": \"san diego\", \"weekly_sales_total\": 804682, \"week\": \"december-02-2024\"}, {\"Agua Fresca Juice Shop\": \"new york city\", \"weekly_sales_total\": 325068, \"week\": \"december-02-2024\"}, {\"Agua Fresca Juice Shop\": \"leaf city\", \"weekly_sales_total\": 917834, \"week\": \"december-02-2024\"}, {\"Agua Fresca Juice Shop\": \"happy city\", \"weekly_sales_total\": 855291, \"week\": \"december-30-2024\"}, {\"Agua Fresca Juice Shop\": \"marble city\", \"weekly_sales_total\": 755571, \"week\": \"december-30-2024\"}, {\"Agua Fresca Juice Shop\": \"bubble city\", \"weekly_sales_total\": 524403, \"week\": \"december-30-2024\"}, {\"Agua Fresca Juice Shop\": \"tustin\", \"weekly_sales_total\": 557174, \"week\": \"december-30-2024\"}, {\"Agua Fresca Juice Shop\": \"anaheim\", \"weekly_sales_total\": 717372, \"week\": \"december-30-2024\"}, {\"Agua Fresca Juice Shop\": \"san diego\", \"weekly_sales_total\": 395238, \"week\": \"december-30-2024\"}, {\"Agua Fresca Juice Shop\": \"new york city\", \"weekly_sales_total\": 416758, \"week\": \"december-30-2024\"}, {\"Agua Fresca Juice Shop\": \"leaf city\", \"weekly_sales_total\": 172032, \"week\": \"december-30-2024\"}, {\"Agua Fresca Juice Shop\": \"happy city\", \"weekly_sales_total\": 922509, \"week\": \"july-15-2024\"}, {\"Agua Fresca Juice Shop\": \"marble city\", \"weekly_sales_total\": 994264, \"week\": \"july-15-2024\"}, {\"Agua Fresca Juice Shop\": \"bubble city\", \"weekly_sales_total\": 378969, \"week\": \"july-15-2024\"}, {\"Agua Fresca Juice Shop\": \"tustin\", \"weekly_sales_total\": 615026, \"week\": \"july-15-2024\"}, {\"Agua Fresca Juice Shop\": \"anaheim\", \"weekly_sales_total\": 686528, \"week\": \"july-15-2024\"}, {\"Agua Fresca Juice Shop\": \"san diego\", \"weekly_sales_total\": 800452, \"week\": \"july-15-2024\"}, {\"Agua Fresca Juice Shop\": \"new york city\", \"weekly_sales_total\": 387213, \"week\": \"july-15-2024\"}, {\"Agua Fresca Juice Shop\": \"leaf city\", \"weekly_sales_total\": 333852, \"week\": \"july-15-2024\"}, {\"Agua Fresca Juice Shop\": \"happy city\", \"weekly_sales_total\": 498417, \"week\": \"january-01-2024\"}, {\"Agua Fresca Juice Shop\": \"marble city\", \"weekly_sales_total\": 542975, \"week\": \"january-01-2024\"}, {\"Agua Fresca Juice Shop\": \"bubble city\", \"weekly_sales_total\": 777258, \"week\": \"january-01-2024\"}, {\"Agua Fresca Juice Shop\": \"tustin\", \"weekly_sales_total\": 181331, \"week\": \"january-01-2024\"}, {\"Agua Fresca Juice Shop\": \"anaheim\", \"weekly_sales_total\": 410552, \"week\": \"january-01-2024\"}, {\"Agua Fresca Juice Shop\": \"san diego\", \"weekly_sales_total\": 207666, \"week\": \"january-01-2024\"}, {\"Agua Fresca Juice Shop\": \"new york city\", \"weekly_sales_total\": 241822, \"week\": \"january-01-2024\"}, {\"Agua Fresca Juice Shop\": \"leaf city\", \"weekly_sales_total\": 562475, \"week\": \"january-01-2024\"}, {\"Agua Fresca Juice Shop\": \"happy city\", \"weekly_sales_total\": 438197, \"week\": \"october-14-2024\"}, {\"Agua Fresca Juice Shop\": \"marble city\", \"weekly_sales_total\": 289469, \"week\": \"october-14-2024\"}, {\"Agua Fresca Juice Shop\": \"bubble city\", \"weekly_sales_total\": 511929, \"week\": \"october-14-2024\"}, {\"Agua Fresca Juice Shop\": \"tustin\", \"weekly_sales_total\": 887661, \"week\": \"october-14-2024\"}, {\"Agua Fresca Juice Shop\": \"anaheim\", \"weekly_sales_total\": 584069, \"week\": \"october-14-2024\"}, {\"Agua Fresca Juice Shop\": \"san diego\", \"weekly_sales_total\": 468634, \"week\": \"october-14-2024\"}, {\"Agua Fresca Juice Shop\": \"new york city\", \"weekly_sales_total\": 797853, \"week\": \"october-14-2024\"}, {\"Agua Fresca Juice Shop\": \"leaf city\", \"weekly_sales_total\": 347932, \"week\": \"october-14-2024\"}, {\"Agua Fresca Juice Shop\": \"happy city\", \"weekly_sales_total\": 940269, \"week\": \"december-23-2024\"}, {\"Agua Fresca Juice Shop\": \"marble city\", \"weekly_sales_total\": 175590, \"week\": \"december-23-2024\"}, {\"Agua Fresca Juice Shop\": \"bubble city\", \"weekly_sales_total\": 909604, \"week\": \"december-23-2024\"}, {\"Agua Fresca Juice Shop\": \"tustin\", \"weekly_sales_total\": 123320, \"week\": \"december-23-2024\"}, {\"Agua Fresca Juice Shop\": \"anaheim\", \"weekly_sales_total\": 419933, \"week\": \"december-23-2024\"}, {\"Agua Fresca Juice Shop\": \"san diego\", \"weekly_sales_total\": 261549, \"week\": \"december-23-2024\"}, {\"Agua Fresca Juice Shop\": \"new york city\", \"weekly_sales_total\": 486745, \"week\": \"december-23-2024\"}, {\"Agua Fresca Juice Shop\": \"leaf city\", \"weekly_sales_total\": 175028, \"week\": \"december-23-2024\"}, {\"Agua Fresca Juice Shop\": \"happy city\", \"weekly_sales_total\": 502538, \"week\": \"september-30-2024\"}, {\"Agua Fresca Juice Shop\": \"marble city\", \"weekly_sales_total\": 401258, \"week\": \"september-30-2024\"}, {\"Agua Fresca Juice Shop\": \"bubble city\", \"weekly_sales_total\": 217188, \"week\": \"september-30-2024\"}, {\"Agua Fresca Juice Shop\": \"tustin\", \"weekly_sales_total\": 912620, \"week\": \"september-30-2024\"}, {\"Agua Fresca Juice Shop\": \"anaheim\", \"weekly_sales_total\": 197782, \"week\": \"september-30-2024\"}, {\"Agua Fresca Juice Shop\": \"san diego\", \"weekly_sales_total\": 893165, \"week\": \"september-30-2024\"}, {\"Agua Fresca Juice Shop\": \"new york city\", \"weekly_sales_total\": 180756, \"week\": \"september-30-2024\"}, {\"Agua Fresca Juice Shop\": \"leaf city\", \"weekly_sales_total\": 798668, \"week\": \"september-30-2024\"}, {\"Agua Fresca Juice Shop\": \"happy city\", \"weekly_sales_total\": 403871, \"week\": \"november-04-2024\"}, {\"Agua Fresca Juice Shop\": \"marble city\", \"weekly_sales_total\": 730247, \"week\": \"november-04-2024\"}, {\"Agua Fresca Juice Shop\": \"bubble city\", \"weekly_sales_total\": 351398, \"week\": \"november-04-2024\"}, {\"Agua Fresca Juice Shop\": \"tustin\", \"weekly_sales_total\": 958861, \"week\": \"november-04-2024\"}, {\"Agua Fresca Juice Shop\": \"anaheim\", \"weekly_sales_total\": 144290, \"week\": \"november-04-2024\"}, {\"Agua Fresca Juice Shop\": \"san diego\", \"weekly_sales_total\": 500681, \"week\": \"november-04-2024\"}, {\"Agua Fresca Juice Shop\": \"new york city\", \"weekly_sales_total\": 905377, \"week\": \"november-04-2024\"}, {\"Agua Fresca Juice Shop\": \"leaf city\", \"weekly_sales_total\": 299035, \"week\": \"november-04-2024\"}, {\"Agua Fresca Juice Shop\": \"happy city\", \"weekly_sales_total\": 609510, \"week\": \"august-12-2024\"}, {\"Agua Fresca Juice Shop\": \"marble city\", \"weekly_sales_total\": 781772, \"week\": \"august-12-2024\"}, {\"Agua Fresca Juice Shop\": \"bubble city\", \"weekly_sales_total\": 707293, \"week\": \"august-12-2024\"}, {\"Agua Fresca Juice Shop\": \"tustin\", \"weekly_sales_total\": 169254, \"week\": \"august-12-2024\"}, {\"Agua Fresca Juice Shop\": \"anaheim\", \"weekly_sales_total\": 854000, \"week\": \"august-12-2024\"}, {\"Agua Fresca Juice Shop\": \"san diego\", \"weekly_sales_total\": 780289, \"week\": \"august-12-2024\"}, {\"Agua Fresca Juice Shop\": \"new york city\", \"weekly_sales_total\": 691957, \"week\": \"august-12-2024\"}, {\"Agua Fresca Juice Shop\": \"leaf city\", \"weekly_sales_total\": 429969, \"week\": \"august-12-2024\"}, {\"Agua Fresca Juice Shop\": \"happy city\", \"weekly_sales_total\": 600647, \"week\": \"january-15-2024\"}, {\"Agua Fresca Juice Shop\": \"marble city\", \"weekly_sales_total\": 255815, \"week\": \"january-15-2024\"}, {\"Agua Fresca Juice Shop\": \"bubble city\", \"weekly_sales_total\": 770085, \"week\": \"january-15-2024\"}, {\"Agua Fresca Juice Shop\": \"tustin\", \"weekly_sales_total\": 798384, \"week\": \"january-15-2024\"}, {\"Agua Fresca Juice Shop\": \"anaheim\", \"weekly_sales_total\": 118224, \"week\": \"january-15-2024\"}, {\"Agua Fresca Juice Shop\": \"san diego\", \"weekly_sales_total\": 132007, \"week\": \"january-15-2024\"}, {\"Agua Fresca Juice Shop\": \"new york city\", \"weekly_sales_total\": 967462, \"week\": \"january-15-2024\"}, {\"Agua Fresca Juice Shop\": \"leaf city\", \"weekly_sales_total\": 268665, \"week\": \"january-15-2024\"}, {\"Agua Fresca Juice Shop\": \"happy city\", \"weekly_sales_total\": 423501, \"week\": \"march-04-2024\"}, {\"Agua Fresca Juice Shop\": \"marble city\", \"weekly_sales_total\": 103980, \"week\": \"march-04-2024\"}, {\"Agua Fresca Juice Shop\": \"bubble city\", \"weekly_sales_total\": 459415, \"week\": \"march-04-2024\"}, {\"Agua Fresca Juice Shop\": \"tustin\", \"weekly_sales_total\": 526015, \"week\": \"march-04-2024\"}, {\"Agua Fresca Juice Shop\": \"anaheim\", \"weekly_sales_total\": 371195, \"week\": \"march-04-2024\"}, {\"Agua Fresca Juice Shop\": \"san diego\", \"weekly_sales_total\": 188916, \"week\": \"march-04-2024\"}, {\"Agua Fresca Juice Shop\": \"new york city\", \"weekly_sales_total\": 434807, \"week\": \"march-04-2024\"}, {\"Agua Fresca Juice Shop\": \"leaf city\", \"weekly_sales_total\": 422754, \"week\": \"march-04-2024\"}, {\"Agua Fresca Juice Shop\": \"happy city\", \"weekly_sales_total\": 780756, \"week\": \"april-08-2024\"}, {\"Agua Fresca Juice Shop\": \"marble city\", \"weekly_sales_total\": 921119, \"week\": \"april-08-2024\"}, {\"Agua Fresca Juice Shop\": \"bubble city\", \"weekly_sales_total\": 160083, \"week\": \"april-08-2024\"}, {\"Agua Fresca Juice Shop\": \"tustin\", \"weekly_sales_total\": 277618, \"week\": \"april-08-2024\"}, {\"Agua Fresca Juice Shop\": \"anaheim\", \"weekly_sales_total\": 742368, \"week\": \"april-08-2024\"}, {\"Agua Fresca Juice Shop\": \"san diego\", \"weekly_sales_total\": 354802, \"week\": \"april-08-2024\"}, {\"Agua Fresca Juice Shop\": \"new york city\", \"weekly_sales_total\": 861436, \"week\": \"april-08-2024\"}, {\"Agua Fresca Juice Shop\": \"leaf city\", \"weekly_sales_total\": 167643, \"week\": \"april-08-2024\"}, {\"Agua Fresca Juice Shop\": \"happy city\", \"weekly_sales_total\": 727300, \"week\": \"february-26-2024\"}, {\"Agua Fresca Juice Shop\": \"marble city\", \"weekly_sales_total\": 104794, \"week\": \"february-26-2024\"}, {\"Agua Fresca Juice Shop\": \"bubble city\", \"weekly_sales_total\": 118208, \"week\": \"february-26-2024\"}, {\"Agua Fresca Juice Shop\": \"tustin\", \"weekly_sales_total\": 452019, \"week\": \"february-26-2024\"}, {\"Agua Fresca Juice Shop\": \"anaheim\", \"weekly_sales_total\": 412455, \"week\": \"february-26-2024\"}, {\"Agua Fresca Juice Shop\": \"san diego\", \"weekly_sales_total\": 350342, \"week\": \"february-26-2024\"}, {\"Agua Fresca Juice Shop\": \"new york city\", \"weekly_sales_total\": 129099, \"week\": \"february-26-2024\"}, {\"Agua Fresca Juice Shop\": \"leaf city\", \"weekly_sales_total\": 136893, \"week\": \"february-26-2024\"}]}}, {\"mode\": \"vega-lite\"});\n",
              "</script>"
            ],
            "text/plain": [
              "alt.Chart(...)"
            ]
          },
          "metadata": {},
          "execution_count": 39
        }
      ]
    },
    {
      "cell_type": "code",
      "source": [
        "import pandas as pd\n",
        "grouped_stats = df.groupby('Agua Fresca Juice Shop')['weekly_sales_total'].describe()\n",
        "\n",
        "grouped_variance = df.groupby('Agua Fresca Juice Shop')['weekly_sales_total'].var().rename(\"variance\")\n",
        "\n",
        "stats_with_variance = pd.concat([grouped_stats, grouped_variance], axis=1)\n",
        "\n",
        "print(stats_with_variance)"
      ],
      "metadata": {
        "colab": {
          "base_uri": "https://localhost:8080/"
        },
        "id": "WDqArz_DgEfO",
        "outputId": "f2ccaa2f-8189-4915-c87f-1f4dee5b9076"
      },
      "execution_count": 40,
      "outputs": [
        {
          "output_type": "stream",
          "name": "stdout",
          "text": [
            "                        count           mean            std       min  \\\n",
            "Agua Fresca Juice Shop                                                  \n",
            "anaheim                  54.0  515981.314815  275170.476784  114356.0   \n",
            "bubble city              54.0  454679.537037  244878.585436  118208.0   \n",
            "happy city               54.0  566392.740741  270608.696149  101952.0   \n",
            "leaf city                54.0  486029.907407  253811.554850  115413.0   \n",
            "marble city              54.0  531554.925926  307254.140676  103980.0   \n",
            "new york city            54.0  586768.907407  268024.678122  128874.0   \n",
            "san diego                54.0  583120.833333  253674.915040  132007.0   \n",
            "tustin                   54.0  527544.703704  251086.962400  102308.0   \n",
            "\n",
            "                              25%       50%        75%       max      variance  \n",
            "Agua Fresca Juice Shop                                                          \n",
            "anaheim                 258307.75  495434.0  735721.75  996212.0  7.571879e+10  \n",
            "bubble city             259034.25  398570.0  610853.75  971711.0  5.996552e+10  \n",
            "happy city              402656.00  532328.0  824318.50  999040.0  7.322907e+10  \n",
            "leaf city               280761.25  464951.5  675705.25  964335.0  6.442031e+10  \n",
            "marble city             261161.00  516815.0  796615.25  997364.0  9.440511e+10  \n",
            "new york city           396182.50  581862.0  829600.50  996284.0  7.183723e+10  \n",
            "san diego               351457.00  653044.0  781414.75  996396.0  6.435096e+10  \n",
            "tustin                  296351.00  541594.5  735003.50  958861.0  6.304466e+10  \n"
          ]
        }
      ]
    },
    {
      "cell_type": "code",
      "source": [
        "import pandas as pd\n",
        "\n",
        "grouped_variance = df.groupby('Agua Fresca Juice Shop')['weekly_sales_total'].var().rename(\"variance\")\n",
        "\n",
        "ranked_stores = grouped_variance.sort_values(ascending=False)\n",
        "\n",
        "print(ranked_stores)"
      ],
      "metadata": {
        "colab": {
          "base_uri": "https://localhost:8080/"
        },
        "id": "zuQvm-StgKhH",
        "outputId": "cd549cff-4bb2-4acd-b2b5-6052c80717fc"
      },
      "execution_count": 41,
      "outputs": [
        {
          "output_type": "stream",
          "name": "stdout",
          "text": [
            "Agua Fresca Juice Shop\n",
            "marble city      9.440511e+10\n",
            "anaheim          7.571879e+10\n",
            "happy city       7.322907e+10\n",
            "new york city    7.183723e+10\n",
            "leaf city        6.442031e+10\n",
            "san diego        6.435096e+10\n",
            "tustin           6.304466e+10\n",
            "bubble city      5.996552e+10\n",
            "Name: variance, dtype: float64\n"
          ]
        }
      ]
    },
    {
      "cell_type": "code",
      "source": [
        "import altair as alt\n",
        "\n",
        "data = ranked_stores.reset_index()\n",
        "data.columns = ['Agua Fresca Juice Shop', 'variance']\n",
        "\n",
        "color_scale = alt.Scale(scheme='redblue', domainMid=0)\n",
        "\n",
        "histogram = alt.Chart(data).mark_bar().encode(\n",
        "    x='Agua Fresca Juice Shop:N',\n",
        "    y='variance:Q',\n",
        "    color=alt.Color('variance:Q', scale=color_scale, legend=None),\n",
        "    tooltip=['Agua Fresca Juice Shop:N', 'variance:Q']\n",
        ").properties(\n",
        "    width=600\n",
        ")\n",
        "\n",
        "histogram"
      ],
      "metadata": {
        "colab": {
          "base_uri": "https://localhost:8080/",
          "height": 416
        },
        "id": "5KeHUszYgUov",
        "outputId": "d0280da0-075a-4430-dcdb-09cd18b676b1"
      },
      "execution_count": 42,
      "outputs": [
        {
          "output_type": "execute_result",
          "data": {
            "text/html": [
              "\n",
              "<div id=\"altair-viz-a2b6e0d6a4ca4694a777a9cc92c4187e\"></div>\n",
              "<script type=\"text/javascript\">\n",
              "  var VEGA_DEBUG = (typeof VEGA_DEBUG == \"undefined\") ? {} : VEGA_DEBUG;\n",
              "  (function(spec, embedOpt){\n",
              "    let outputDiv = document.currentScript.previousElementSibling;\n",
              "    if (outputDiv.id !== \"altair-viz-a2b6e0d6a4ca4694a777a9cc92c4187e\") {\n",
              "      outputDiv = document.getElementById(\"altair-viz-a2b6e0d6a4ca4694a777a9cc92c4187e\");\n",
              "    }\n",
              "    const paths = {\n",
              "      \"vega\": \"https://cdn.jsdelivr.net/npm//vega@5?noext\",\n",
              "      \"vega-lib\": \"https://cdn.jsdelivr.net/npm//vega-lib?noext\",\n",
              "      \"vega-lite\": \"https://cdn.jsdelivr.net/npm//vega-lite@4.17.0?noext\",\n",
              "      \"vega-embed\": \"https://cdn.jsdelivr.net/npm//vega-embed@6?noext\",\n",
              "    };\n",
              "\n",
              "    function maybeLoadScript(lib, version) {\n",
              "      var key = `${lib.replace(\"-\", \"\")}_version`;\n",
              "      return (VEGA_DEBUG[key] == version) ?\n",
              "        Promise.resolve(paths[lib]) :\n",
              "        new Promise(function(resolve, reject) {\n",
              "          var s = document.createElement('script');\n",
              "          document.getElementsByTagName(\"head\")[0].appendChild(s);\n",
              "          s.async = true;\n",
              "          s.onload = () => {\n",
              "            VEGA_DEBUG[key] = version;\n",
              "            return resolve(paths[lib]);\n",
              "          };\n",
              "          s.onerror = () => reject(`Error loading script: ${paths[lib]}`);\n",
              "          s.src = paths[lib];\n",
              "        });\n",
              "    }\n",
              "\n",
              "    function showError(err) {\n",
              "      outputDiv.innerHTML = `<div class=\"error\" style=\"color:red;\">${err}</div>`;\n",
              "      throw err;\n",
              "    }\n",
              "\n",
              "    function displayChart(vegaEmbed) {\n",
              "      vegaEmbed(outputDiv, spec, embedOpt)\n",
              "        .catch(err => showError(`Javascript Error: ${err.message}<br>This usually means there's a typo in your chart specification. See the javascript console for the full traceback.`));\n",
              "    }\n",
              "\n",
              "    if(typeof define === \"function\" && define.amd) {\n",
              "      requirejs.config({paths});\n",
              "      require([\"vega-embed\"], displayChart, err => showError(`Error loading script: ${err.message}`));\n",
              "    } else {\n",
              "      maybeLoadScript(\"vega\", \"5\")\n",
              "        .then(() => maybeLoadScript(\"vega-lite\", \"4.17.0\"))\n",
              "        .then(() => maybeLoadScript(\"vega-embed\", \"6\"))\n",
              "        .catch(showError)\n",
              "        .then(() => displayChart(vegaEmbed));\n",
              "    }\n",
              "  })({\"config\": {\"view\": {\"continuousWidth\": 400, \"continuousHeight\": 300}}, \"data\": {\"name\": \"data-9d4877e2fa6228508ea296b08e29de83\"}, \"mark\": \"bar\", \"encoding\": {\"color\": {\"field\": \"variance\", \"legend\": null, \"scale\": {\"domainMid\": 0, \"scheme\": \"redblue\"}, \"type\": \"quantitative\"}, \"tooltip\": [{\"field\": \"Agua Fresca Juice Shop\", \"type\": \"nominal\"}, {\"field\": \"variance\", \"type\": \"quantitative\"}], \"x\": {\"field\": \"Agua Fresca Juice Shop\", \"type\": \"nominal\"}, \"y\": {\"field\": \"variance\", \"type\": \"quantitative\"}}, \"width\": 600, \"$schema\": \"https://vega.github.io/schema/vega-lite/v4.17.0.json\", \"datasets\": {\"data-9d4877e2fa6228508ea296b08e29de83\": [{\"Agua Fresca Juice Shop\": \"marble city\", \"variance\": 94405106962.29633}, {\"Agua Fresca Juice Shop\": \"anaheim\", \"variance\": 75718791293.7292}, {\"Agua Fresca Juice Shop\": \"happy city\", \"variance\": 73229066431.70511}, {\"Agua Fresca Juice Shop\": \"new york city\", \"variance\": 71837228082.31203}, {\"Agua Fresca Juice Shop\": \"leaf city\", \"variance\": 64420305375.330894}, {\"Agua Fresca Juice Shop\": \"san diego\", \"variance\": 64350962520.63206}, {\"Agua Fresca Juice Shop\": \"tustin\", \"variance\": 63044662687.38225}, {\"Agua Fresca Juice Shop\": \"bubble city\", \"variance\": 59965521605.34766}]}}, {\"mode\": \"vega-lite\"});\n",
              "</script>"
            ],
            "text/plain": [
              "alt.Chart(...)"
            ]
          },
          "metadata": {},
          "execution_count": 42
        }
      ]
    }
  ]
}